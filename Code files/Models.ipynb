{
 "cells": [
  {
   "cell_type": "code",
   "execution_count": 1,
   "id": "junior-roulette",
   "metadata": {},
   "outputs": [],
   "source": [
    "# Libraries\n",
    "import numpy as np\n",
    "import pandas as pd\n",
    "import time\n",
    "import matplotlib.pyplot as plt\n",
    "from scipy.sparse import csc_matrix, find\n",
    "import copy\n",
    "\n",
    "from PIL import Image\n",
    "from matplotlib.pyplot import imshow\n",
    "%matplotlib inline\n",
    "\n",
    "import scipy.sparse.linalg as ll\n",
    "import math\n",
    "import scipy"
   ]
  },
  {
   "cell_type": "code",
   "execution_count": 2,
   "id": "expensive-thing",
   "metadata": {},
   "outputs": [],
   "source": [
    "import scipy.io as sio\n",
    "import scipy\n",
    "import numpy as np\n",
    "import matplotlib.pyplot as plt\n",
    "from matplotlib.colors import ListedColormap\n",
    "from sklearn.model_selection import train_test_split\n",
    "from sklearn.preprocessing import StandardScaler\n",
    "from sklearn.datasets import make_moons, make_circles, make_classification\n",
    "from sklearn.neural_network import MLPClassifier\n",
    "from sklearn.neighbors import KNeighborsClassifier\n",
    "from sklearn.svm import SVC\n",
    "from sklearn.gaussian_process import GaussianProcessClassifier\n",
    "from sklearn.gaussian_process.kernels import RBF\n",
    "from sklearn.tree import DecisionTreeClassifier\n",
    "from sklearn.ensemble import RandomForestClassifier, AdaBoostClassifier\n",
    "from sklearn.naive_bayes import GaussianNB\n",
    "from sklearn.discriminant_analysis import QuadraticDiscriminantAnalysis\n",
    "import pandas as pd\n",
    "from sklearn.linear_model import LogisticRegression\n",
    "from sklearn.metrics import classification_report,confusion_matrix\n",
    "from sklearn.model_selection import GridSearchCV\n",
    "from sklearn.utils import resample\n",
    "import time\n",
    "from sklearn.linear_model import LogisticRegression"
   ]
  },
  {
   "cell_type": "markdown",
   "id": "signal-montreal",
   "metadata": {},
   "source": [
    "# Loading the training and test data"
   ]
  },
  {
   "cell_type": "code",
   "execution_count": 3,
   "id": "accomplished-evening",
   "metadata": {},
   "outputs": [
    {
     "data": {
      "text/html": [
       "<div>\n",
       "<style scoped>\n",
       "    .dataframe tbody tr th:only-of-type {\n",
       "        vertical-align: middle;\n",
       "    }\n",
       "\n",
       "    .dataframe tbody tr th {\n",
       "        vertical-align: top;\n",
       "    }\n",
       "\n",
       "    .dataframe thead th {\n",
       "        text-align: right;\n",
       "    }\n",
       "</style>\n",
       "<table border=\"1\" class=\"dataframe\">\n",
       "  <thead>\n",
       "    <tr style=\"text-align: right;\">\n",
       "      <th></th>\n",
       "      <th>mfcc_mean1</th>\n",
       "      <th>mfcc_mean2</th>\n",
       "      <th>mfcc_mean3</th>\n",
       "      <th>mfcc_mean4</th>\n",
       "      <th>mfcc_mean5</th>\n",
       "      <th>mfcc_var1</th>\n",
       "      <th>mfcc_var2</th>\n",
       "      <th>mfcc_var3</th>\n",
       "      <th>mfcc_var4</th>\n",
       "      <th>mfcc_var5</th>\n",
       "      <th>...</th>\n",
       "      <th>pitch6</th>\n",
       "      <th>pitch7</th>\n",
       "      <th>pitch8</th>\n",
       "      <th>pitch9</th>\n",
       "      <th>pitch10</th>\n",
       "      <th>pitch11</th>\n",
       "      <th>pitch12</th>\n",
       "      <th>tempo_max</th>\n",
       "      <th>tempo_sum</th>\n",
       "      <th>tempo_beat</th>\n",
       "    </tr>\n",
       "  </thead>\n",
       "  <tbody>\n",
       "    <tr>\n",
       "      <th>0</th>\n",
       "      <td>-1.172941</td>\n",
       "      <td>1.293879</td>\n",
       "      <td>-0.310054</td>\n",
       "      <td>0.846111</td>\n",
       "      <td>-0.426178</td>\n",
       "      <td>0.492729</td>\n",
       "      <td>-0.549265</td>\n",
       "      <td>-0.289646</td>\n",
       "      <td>-0.810210</td>\n",
       "      <td>0.647656</td>\n",
       "      <td>...</td>\n",
       "      <td>-1.256083</td>\n",
       "      <td>-1.169622</td>\n",
       "      <td>-1.577057</td>\n",
       "      <td>-0.568767</td>\n",
       "      <td>-0.286862</td>\n",
       "      <td>0.083608</td>\n",
       "      <td>-1.244297</td>\n",
       "      <td>-0.244015</td>\n",
       "      <td>-0.343240</td>\n",
       "      <td>1.229011</td>\n",
       "    </tr>\n",
       "    <tr>\n",
       "      <th>1</th>\n",
       "      <td>-1.342460</td>\n",
       "      <td>0.747232</td>\n",
       "      <td>-1.274432</td>\n",
       "      <td>-0.506637</td>\n",
       "      <td>-0.896169</td>\n",
       "      <td>-0.047047</td>\n",
       "      <td>-0.396200</td>\n",
       "      <td>0.693310</td>\n",
       "      <td>0.101081</td>\n",
       "      <td>-0.256119</td>\n",
       "      <td>...</td>\n",
       "      <td>-1.207987</td>\n",
       "      <td>-1.067496</td>\n",
       "      <td>-0.643716</td>\n",
       "      <td>-1.371398</td>\n",
       "      <td>-0.182639</td>\n",
       "      <td>-1.575729</td>\n",
       "      <td>-0.892973</td>\n",
       "      <td>0.989738</td>\n",
       "      <td>1.979781</td>\n",
       "      <td>0.598433</td>\n",
       "    </tr>\n",
       "    <tr>\n",
       "      <th>2</th>\n",
       "      <td>0.105070</td>\n",
       "      <td>0.503199</td>\n",
       "      <td>0.257912</td>\n",
       "      <td>-0.728123</td>\n",
       "      <td>2.245165</td>\n",
       "      <td>-0.390826</td>\n",
       "      <td>-0.128915</td>\n",
       "      <td>-0.432541</td>\n",
       "      <td>0.148230</td>\n",
       "      <td>0.334559</td>\n",
       "      <td>...</td>\n",
       "      <td>0.478499</td>\n",
       "      <td>0.024089</td>\n",
       "      <td>0.559130</td>\n",
       "      <td>-0.071743</td>\n",
       "      <td>0.321799</td>\n",
       "      <td>-0.848798</td>\n",
       "      <td>-0.888076</td>\n",
       "      <td>0.141118</td>\n",
       "      <td>-0.616475</td>\n",
       "      <td>-1.333984</td>\n",
       "    </tr>\n",
       "    <tr>\n",
       "      <th>3</th>\n",
       "      <td>-1.448056</td>\n",
       "      <td>0.369991</td>\n",
       "      <td>0.910324</td>\n",
       "      <td>0.967401</td>\n",
       "      <td>1.459947</td>\n",
       "      <td>0.919041</td>\n",
       "      <td>-0.031016</td>\n",
       "      <td>2.893962</td>\n",
       "      <td>0.394205</td>\n",
       "      <td>0.509416</td>\n",
       "      <td>...</td>\n",
       "      <td>-0.624872</td>\n",
       "      <td>-1.261304</td>\n",
       "      <td>-1.853408</td>\n",
       "      <td>-1.356866</td>\n",
       "      <td>-0.961698</td>\n",
       "      <td>1.571062</td>\n",
       "      <td>2.441289</td>\n",
       "      <td>-2.310878</td>\n",
       "      <td>-0.955361</td>\n",
       "      <td>-0.150379</td>\n",
       "    </tr>\n",
       "    <tr>\n",
       "      <th>4</th>\n",
       "      <td>-0.314696</td>\n",
       "      <td>1.048519</td>\n",
       "      <td>0.437738</td>\n",
       "      <td>0.394208</td>\n",
       "      <td>1.264114</td>\n",
       "      <td>0.318176</td>\n",
       "      <td>1.074318</td>\n",
       "      <td>0.335871</td>\n",
       "      <td>0.189963</td>\n",
       "      <td>0.082640</td>\n",
       "      <td>...</td>\n",
       "      <td>-1.636303</td>\n",
       "      <td>-1.232709</td>\n",
       "      <td>-0.137213</td>\n",
       "      <td>-1.275380</td>\n",
       "      <td>-0.768173</td>\n",
       "      <td>-1.010842</td>\n",
       "      <td>-0.395513</td>\n",
       "      <td>-0.496765</td>\n",
       "      <td>0.415821</td>\n",
       "      <td>0.077520</td>\n",
       "    </tr>\n",
       "  </tbody>\n",
       "</table>\n",
       "<p>5 rows × 36 columns</p>\n",
       "</div>"
      ],
      "text/plain": [
       "   mfcc_mean1  mfcc_mean2  mfcc_mean3  mfcc_mean4  mfcc_mean5  mfcc_var1  \\\n",
       "0   -1.172941    1.293879   -0.310054    0.846111   -0.426178   0.492729   \n",
       "1   -1.342460    0.747232   -1.274432   -0.506637   -0.896169  -0.047047   \n",
       "2    0.105070    0.503199    0.257912   -0.728123    2.245165  -0.390826   \n",
       "3   -1.448056    0.369991    0.910324    0.967401    1.459947   0.919041   \n",
       "4   -0.314696    1.048519    0.437738    0.394208    1.264114   0.318176   \n",
       "\n",
       "   mfcc_var2  mfcc_var3  mfcc_var4  mfcc_var5  ...    pitch6    pitch7  \\\n",
       "0  -0.549265  -0.289646  -0.810210   0.647656  ... -1.256083 -1.169622   \n",
       "1  -0.396200   0.693310   0.101081  -0.256119  ... -1.207987 -1.067496   \n",
       "2  -0.128915  -0.432541   0.148230   0.334559  ...  0.478499  0.024089   \n",
       "3  -0.031016   2.893962   0.394205   0.509416  ... -0.624872 -1.261304   \n",
       "4   1.074318   0.335871   0.189963   0.082640  ... -1.636303 -1.232709   \n",
       "\n",
       "     pitch8    pitch9   pitch10   pitch11   pitch12  tempo_max  tempo_sum  \\\n",
       "0 -1.577057 -0.568767 -0.286862  0.083608 -1.244297  -0.244015  -0.343240   \n",
       "1 -0.643716 -1.371398 -0.182639 -1.575729 -0.892973   0.989738   1.979781   \n",
       "2  0.559130 -0.071743  0.321799 -0.848798 -0.888076   0.141118  -0.616475   \n",
       "3 -1.853408 -1.356866 -0.961698  1.571062  2.441289  -2.310878  -0.955361   \n",
       "4 -0.137213 -1.275380 -0.768173 -1.010842 -0.395513  -0.496765   0.415821   \n",
       "\n",
       "   tempo_beat  \n",
       "0    1.229011  \n",
       "1    0.598433  \n",
       "2   -1.333984  \n",
       "3   -0.150379  \n",
       "4    0.077520  \n",
       "\n",
       "[5 rows x 36 columns]"
      ]
     },
     "execution_count": 3,
     "metadata": {},
     "output_type": "execute_result"
    }
   ],
   "source": [
    "X_train = pd.read_csv(\"X_train.csv\")\n",
    "X_train=X_train.drop([\"Unnamed: 0\"],axis=1)\n",
    "X_train.head()"
   ]
  },
  {
   "cell_type": "code",
   "execution_count": 4,
   "id": "middle-remainder",
   "metadata": {},
   "outputs": [
    {
     "data": {
      "text/html": [
       "<div>\n",
       "<style scoped>\n",
       "    .dataframe tbody tr th:only-of-type {\n",
       "        vertical-align: middle;\n",
       "    }\n",
       "\n",
       "    .dataframe tbody tr th {\n",
       "        vertical-align: top;\n",
       "    }\n",
       "\n",
       "    .dataframe thead th {\n",
       "        text-align: right;\n",
       "    }\n",
       "</style>\n",
       "<table border=\"1\" class=\"dataframe\">\n",
       "  <thead>\n",
       "    <tr style=\"text-align: right;\">\n",
       "      <th></th>\n",
       "      <th>mfcc_mean1</th>\n",
       "      <th>mfcc_mean2</th>\n",
       "      <th>mfcc_mean3</th>\n",
       "      <th>mfcc_mean4</th>\n",
       "      <th>mfcc_mean5</th>\n",
       "      <th>mfcc_var1</th>\n",
       "      <th>mfcc_var2</th>\n",
       "      <th>mfcc_var3</th>\n",
       "      <th>mfcc_var4</th>\n",
       "      <th>mfcc_var5</th>\n",
       "      <th>...</th>\n",
       "      <th>pitch6</th>\n",
       "      <th>pitch7</th>\n",
       "      <th>pitch8</th>\n",
       "      <th>pitch9</th>\n",
       "      <th>pitch10</th>\n",
       "      <th>pitch11</th>\n",
       "      <th>pitch12</th>\n",
       "      <th>tempo_max</th>\n",
       "      <th>tempo_sum</th>\n",
       "      <th>tempo_beat</th>\n",
       "    </tr>\n",
       "  </thead>\n",
       "  <tbody>\n",
       "    <tr>\n",
       "      <th>0</th>\n",
       "      <td>0.684275</td>\n",
       "      <td>-0.810286</td>\n",
       "      <td>-0.524284</td>\n",
       "      <td>1.911102</td>\n",
       "      <td>-0.699681</td>\n",
       "      <td>-0.935206</td>\n",
       "      <td>-0.944823</td>\n",
       "      <td>-1.267007</td>\n",
       "      <td>-1.111010</td>\n",
       "      <td>-1.128340</td>\n",
       "      <td>...</td>\n",
       "      <td>1.656559</td>\n",
       "      <td>1.903750</td>\n",
       "      <td>1.349401</td>\n",
       "      <td>1.785226</td>\n",
       "      <td>0.978534</td>\n",
       "      <td>1.121784</td>\n",
       "      <td>0.898341</td>\n",
       "      <td>0.172622</td>\n",
       "      <td>0.916939</td>\n",
       "      <td>0.326138</td>\n",
       "    </tr>\n",
       "    <tr>\n",
       "      <th>1</th>\n",
       "      <td>-0.168469</td>\n",
       "      <td>0.184756</td>\n",
       "      <td>-0.144977</td>\n",
       "      <td>0.363165</td>\n",
       "      <td>1.205320</td>\n",
       "      <td>-0.367439</td>\n",
       "      <td>0.228760</td>\n",
       "      <td>-0.037565</td>\n",
       "      <td>0.557882</td>\n",
       "      <td>0.283903</td>\n",
       "      <td>...</td>\n",
       "      <td>0.595779</td>\n",
       "      <td>0.469830</td>\n",
       "      <td>-0.869333</td>\n",
       "      <td>-1.042008</td>\n",
       "      <td>-0.743012</td>\n",
       "      <td>0.032500</td>\n",
       "      <td>-0.825830</td>\n",
       "      <td>-1.869451</td>\n",
       "      <td>-1.065681</td>\n",
       "      <td>-1.579928</td>\n",
       "    </tr>\n",
       "    <tr>\n",
       "      <th>2</th>\n",
       "      <td>1.070376</td>\n",
       "      <td>-0.996549</td>\n",
       "      <td>0.778115</td>\n",
       "      <td>-0.754331</td>\n",
       "      <td>1.266227</td>\n",
       "      <td>-0.290514</td>\n",
       "      <td>0.202085</td>\n",
       "      <td>-0.038801</td>\n",
       "      <td>-0.150743</td>\n",
       "      <td>-0.209427</td>\n",
       "      <td>...</td>\n",
       "      <td>-0.173511</td>\n",
       "      <td>0.629004</td>\n",
       "      <td>-0.597585</td>\n",
       "      <td>0.508204</td>\n",
       "      <td>0.633026</td>\n",
       "      <td>-0.165569</td>\n",
       "      <td>0.309499</td>\n",
       "      <td>0.430009</td>\n",
       "      <td>-0.605368</td>\n",
       "      <td>-0.899190</td>\n",
       "    </tr>\n",
       "    <tr>\n",
       "      <th>3</th>\n",
       "      <td>-0.386572</td>\n",
       "      <td>-0.011905</td>\n",
       "      <td>2.438363</td>\n",
       "      <td>-1.448555</td>\n",
       "      <td>0.384486</td>\n",
       "      <td>1.846998</td>\n",
       "      <td>3.216494</td>\n",
       "      <td>0.917217</td>\n",
       "      <td>0.579637</td>\n",
       "      <td>0.529653</td>\n",
       "      <td>...</td>\n",
       "      <td>0.352439</td>\n",
       "      <td>1.562375</td>\n",
       "      <td>0.249539</td>\n",
       "      <td>0.716354</td>\n",
       "      <td>-0.522864</td>\n",
       "      <td>-0.538336</td>\n",
       "      <td>-0.680197</td>\n",
       "      <td>-0.757958</td>\n",
       "      <td>-0.298218</td>\n",
       "      <td>-1.579928</td>\n",
       "    </tr>\n",
       "    <tr>\n",
       "      <th>4</th>\n",
       "      <td>-1.517943</td>\n",
       "      <td>1.386123</td>\n",
       "      <td>0.571646</td>\n",
       "      <td>-0.781112</td>\n",
       "      <td>0.315218</td>\n",
       "      <td>1.144519</td>\n",
       "      <td>-0.150606</td>\n",
       "      <td>1.213199</td>\n",
       "      <td>0.805218</td>\n",
       "      <td>1.345694</td>\n",
       "      <td>...</td>\n",
       "      <td>-1.684873</td>\n",
       "      <td>-0.876754</td>\n",
       "      <td>-2.210057</td>\n",
       "      <td>-1.387878</td>\n",
       "      <td>-0.557826</td>\n",
       "      <td>-1.463390</td>\n",
       "      <td>-0.487584</td>\n",
       "      <td>-1.159549</td>\n",
       "      <td>0.505381</td>\n",
       "      <td>0.598433</td>\n",
       "    </tr>\n",
       "  </tbody>\n",
       "</table>\n",
       "<p>5 rows × 36 columns</p>\n",
       "</div>"
      ],
      "text/plain": [
       "   mfcc_mean1  mfcc_mean2  mfcc_mean3  mfcc_mean4  mfcc_mean5  mfcc_var1  \\\n",
       "0    0.684275   -0.810286   -0.524284    1.911102   -0.699681  -0.935206   \n",
       "1   -0.168469    0.184756   -0.144977    0.363165    1.205320  -0.367439   \n",
       "2    1.070376   -0.996549    0.778115   -0.754331    1.266227  -0.290514   \n",
       "3   -0.386572   -0.011905    2.438363   -1.448555    0.384486   1.846998   \n",
       "4   -1.517943    1.386123    0.571646   -0.781112    0.315218   1.144519   \n",
       "\n",
       "   mfcc_var2  mfcc_var3  mfcc_var4  mfcc_var5  ...    pitch6    pitch7  \\\n",
       "0  -0.944823  -1.267007  -1.111010  -1.128340  ...  1.656559  1.903750   \n",
       "1   0.228760  -0.037565   0.557882   0.283903  ...  0.595779  0.469830   \n",
       "2   0.202085  -0.038801  -0.150743  -0.209427  ... -0.173511  0.629004   \n",
       "3   3.216494   0.917217   0.579637   0.529653  ...  0.352439  1.562375   \n",
       "4  -0.150606   1.213199   0.805218   1.345694  ... -1.684873 -0.876754   \n",
       "\n",
       "     pitch8    pitch9   pitch10   pitch11   pitch12  tempo_max  tempo_sum  \\\n",
       "0  1.349401  1.785226  0.978534  1.121784  0.898341   0.172622   0.916939   \n",
       "1 -0.869333 -1.042008 -0.743012  0.032500 -0.825830  -1.869451  -1.065681   \n",
       "2 -0.597585  0.508204  0.633026 -0.165569  0.309499   0.430009  -0.605368   \n",
       "3  0.249539  0.716354 -0.522864 -0.538336 -0.680197  -0.757958  -0.298218   \n",
       "4 -2.210057 -1.387878 -0.557826 -1.463390 -0.487584  -1.159549   0.505381   \n",
       "\n",
       "   tempo_beat  \n",
       "0    0.326138  \n",
       "1   -1.579928  \n",
       "2   -0.899190  \n",
       "3   -1.579928  \n",
       "4    0.598433  \n",
       "\n",
       "[5 rows x 36 columns]"
      ]
     },
     "execution_count": 4,
     "metadata": {},
     "output_type": "execute_result"
    }
   ],
   "source": [
    "X_test = pd.read_csv(\"X_test.csv\")\n",
    "X_test=X_test.drop([\"Unnamed: 0\"],axis=1)\n",
    "X_test.head()"
   ]
  },
  {
   "cell_type": "code",
   "execution_count": 5,
   "id": "recorded-cherry",
   "metadata": {},
   "outputs": [
    {
     "data": {
      "text/html": [
       "<div>\n",
       "<style scoped>\n",
       "    .dataframe tbody tr th:only-of-type {\n",
       "        vertical-align: middle;\n",
       "    }\n",
       "\n",
       "    .dataframe tbody tr th {\n",
       "        vertical-align: top;\n",
       "    }\n",
       "\n",
       "    .dataframe thead th {\n",
       "        text-align: right;\n",
       "    }\n",
       "</style>\n",
       "<table border=\"1\" class=\"dataframe\">\n",
       "  <thead>\n",
       "    <tr style=\"text-align: right;\">\n",
       "      <th></th>\n",
       "      <th>label</th>\n",
       "    </tr>\n",
       "  </thead>\n",
       "  <tbody>\n",
       "    <tr>\n",
       "      <th>0</th>\n",
       "      <td>6.0</td>\n",
       "    </tr>\n",
       "    <tr>\n",
       "      <th>1</th>\n",
       "      <td>4.0</td>\n",
       "    </tr>\n",
       "    <tr>\n",
       "      <th>2</th>\n",
       "      <td>9.0</td>\n",
       "    </tr>\n",
       "    <tr>\n",
       "      <th>3</th>\n",
       "      <td>1.0</td>\n",
       "    </tr>\n",
       "    <tr>\n",
       "      <th>4</th>\n",
       "      <td>1.0</td>\n",
       "    </tr>\n",
       "  </tbody>\n",
       "</table>\n",
       "</div>"
      ],
      "text/plain": [
       "   label\n",
       "0    6.0\n",
       "1    4.0\n",
       "2    9.0\n",
       "3    1.0\n",
       "4    1.0"
      ]
     },
     "execution_count": 5,
     "metadata": {},
     "output_type": "execute_result"
    }
   ],
   "source": [
    "y_train = pd.read_csv(\"y_train.csv\")\n",
    "y_train =y_train.drop([\"Unnamed: 0\"],axis=1)\n",
    "y_train.head()"
   ]
  },
  {
   "cell_type": "code",
   "execution_count": 6,
   "id": "amateur-looking",
   "metadata": {},
   "outputs": [
    {
     "data": {
      "text/html": [
       "<div>\n",
       "<style scoped>\n",
       "    .dataframe tbody tr th:only-of-type {\n",
       "        vertical-align: middle;\n",
       "    }\n",
       "\n",
       "    .dataframe tbody tr th {\n",
       "        vertical-align: top;\n",
       "    }\n",
       "\n",
       "    .dataframe thead th {\n",
       "        text-align: right;\n",
       "    }\n",
       "</style>\n",
       "<table border=\"1\" class=\"dataframe\">\n",
       "  <thead>\n",
       "    <tr style=\"text-align: right;\">\n",
       "      <th></th>\n",
       "      <th>label</th>\n",
       "    </tr>\n",
       "  </thead>\n",
       "  <tbody>\n",
       "    <tr>\n",
       "      <th>0</th>\n",
       "      <td>7.0</td>\n",
       "    </tr>\n",
       "    <tr>\n",
       "      <th>1</th>\n",
       "      <td>5.0</td>\n",
       "    </tr>\n",
       "    <tr>\n",
       "      <th>2</th>\n",
       "      <td>8.0</td>\n",
       "    </tr>\n",
       "    <tr>\n",
       "      <th>3</th>\n",
       "      <td>5.0</td>\n",
       "    </tr>\n",
       "    <tr>\n",
       "      <th>4</th>\n",
       "      <td>3.0</td>\n",
       "    </tr>\n",
       "  </tbody>\n",
       "</table>\n",
       "</div>"
      ],
      "text/plain": [
       "   label\n",
       "0    7.0\n",
       "1    5.0\n",
       "2    8.0\n",
       "3    5.0\n",
       "4    3.0"
      ]
     },
     "execution_count": 6,
     "metadata": {},
     "output_type": "execute_result"
    }
   ],
   "source": [
    "y_test = pd.read_csv(\"y_test.csv\")\n",
    "y_test =y_test.drop([\"Unnamed: 0\"],axis=1)\n",
    "y_test.head()"
   ]
  },
  {
   "cell_type": "markdown",
   "id": "western-virus",
   "metadata": {},
   "source": [
    "# Pycaret implementation just to check out various algos"
   ]
  },
  {
   "cell_type": "code",
   "execution_count": 7,
   "id": "passing-album",
   "metadata": {},
   "outputs": [],
   "source": [
    "from pycaret.classification import *"
   ]
  },
  {
   "cell_type": "code",
   "execution_count": 8,
   "id": "hydraulic-binding",
   "metadata": {},
   "outputs": [],
   "source": [
    "train_data = X_train.copy()"
   ]
  },
  {
   "cell_type": "code",
   "execution_count": 9,
   "id": "efficient-workplace",
   "metadata": {},
   "outputs": [],
   "source": [
    "train_data['y'] = y_train[\"label\"]"
   ]
  },
  {
   "cell_type": "code",
   "execution_count": 10,
   "id": "exclusive-heater",
   "metadata": {},
   "outputs": [],
   "source": [
    "#s = setup(train_data, target = 'y')"
   ]
  },
  {
   "cell_type": "code",
   "execution_count": 11,
   "id": "executed-combat",
   "metadata": {},
   "outputs": [],
   "source": [
    "#best_model = compare_models(sort='Accuracy')"
   ]
  },
  {
   "cell_type": "markdown",
   "id": "alike-psychology",
   "metadata": {},
   "source": [
    "# Implementing KNN Classifier model (from Paper)\n"
   ]
  },
  {
   "cell_type": "code",
   "execution_count": 12,
   "id": "handmade-spotlight",
   "metadata": {},
   "outputs": [
    {
     "data": {
      "text/plain": [
       "KNeighborsClassifier(n_neighbors=3)"
      ]
     },
     "execution_count": 12,
     "metadata": {},
     "output_type": "execute_result"
    }
   ],
   "source": [
    "#KNN algorithm\n",
    "from sklearn.neighbors import KNeighborsClassifier\n",
    "model = KNeighborsClassifier(n_neighbors=3)\n",
    "model.fit(X_train, y_train)"
   ]
  },
  {
   "cell_type": "code",
   "execution_count": 13,
   "id": "coupled-naples",
   "metadata": {},
   "outputs": [
    {
     "data": {
      "text/plain": [
       "0.567863754165124"
      ]
     },
     "execution_count": 13,
     "metadata": {},
     "output_type": "execute_result"
    }
   ],
   "source": [
    "#Cross validation score\n",
    "from sklearn import datasets, linear_model\n",
    "from sklearn.model_selection import cross_val_score\n",
    "\n",
    "cross_val_score(model, X_train, y_train, cv=10).mean()"
   ]
  },
  {
   "cell_type": "code",
   "execution_count": 14,
   "id": "dirty-excess",
   "metadata": {},
   "outputs": [
    {
     "name": "stdout",
     "output_type": "stream",
     "text": [
      "{'metric': 'manhattan', 'n_neighbors': 10}\n"
     ]
    }
   ],
   "source": [
    "#Grid Search hyper parameter tuning\n",
    "#Tuning the knn model\n",
    "from sklearn.model_selection import GridSearchCV\n",
    "model = KNeighborsClassifier()\n",
    "params = [{'n_neighbors': [1,2,3,4,5,6,7,8,9,10,15,17,20,25,50], 'metric': ['minkowski','mahalanobis','manhattan']}]\n",
    "\n",
    "clf_knn = GridSearchCV(model, params, cv = 10, scoring='accuracy')\n",
    "\n",
    "clf_knn.fit(X_train, y_train)\n",
    "print(clf_knn.best_params_)\n",
    "k=clf_knn.best_params_['n_neighbors']"
   ]
  },
  {
   "cell_type": "code",
   "execution_count": 15,
   "id": "portuguese-charm",
   "metadata": {},
   "outputs": [
    {
     "name": "stdout",
     "output_type": "stream",
     "text": [
      "{'metric': 'manhattan', 'n_neighbors': 10}\n"
     ]
    },
    {
     "data": {
      "text/html": [
       "<div>\n",
       "<style scoped>\n",
       "    .dataframe tbody tr th:only-of-type {\n",
       "        vertical-align: middle;\n",
       "    }\n",
       "\n",
       "    .dataframe tbody tr th {\n",
       "        vertical-align: top;\n",
       "    }\n",
       "\n",
       "    .dataframe thead th {\n",
       "        text-align: right;\n",
       "    }\n",
       "</style>\n",
       "<table border=\"1\" class=\"dataframe\">\n",
       "  <thead>\n",
       "    <tr style=\"text-align: right;\">\n",
       "      <th></th>\n",
       "      <th>metric</th>\n",
       "      <th>n_neighbors</th>\n",
       "      <th>Accuracy</th>\n",
       "    </tr>\n",
       "  </thead>\n",
       "  <tbody>\n",
       "    <tr>\n",
       "      <th>0</th>\n",
       "      <td>minkowski</td>\n",
       "      <td>1</td>\n",
       "      <td>0.601796</td>\n",
       "    </tr>\n",
       "    <tr>\n",
       "      <th>1</th>\n",
       "      <td>minkowski</td>\n",
       "      <td>2</td>\n",
       "      <td>0.552980</td>\n",
       "    </tr>\n",
       "    <tr>\n",
       "      <th>2</th>\n",
       "      <td>minkowski</td>\n",
       "      <td>3</td>\n",
       "      <td>0.567864</td>\n",
       "    </tr>\n",
       "    <tr>\n",
       "      <th>3</th>\n",
       "      <td>minkowski</td>\n",
       "      <td>4</td>\n",
       "      <td>0.586875</td>\n",
       "    </tr>\n",
       "    <tr>\n",
       "      <th>4</th>\n",
       "      <td>minkowski</td>\n",
       "      <td>5</td>\n",
       "      <td>0.589522</td>\n",
       "    </tr>\n",
       "    <tr>\n",
       "      <th>5</th>\n",
       "      <td>minkowski</td>\n",
       "      <td>6</td>\n",
       "      <td>0.592207</td>\n",
       "    </tr>\n",
       "    <tr>\n",
       "      <th>6</th>\n",
       "      <td>minkowski</td>\n",
       "      <td>7</td>\n",
       "      <td>0.588171</td>\n",
       "    </tr>\n",
       "    <tr>\n",
       "      <th>7</th>\n",
       "      <td>minkowski</td>\n",
       "      <td>8</td>\n",
       "      <td>0.605813</td>\n",
       "    </tr>\n",
       "    <tr>\n",
       "      <th>8</th>\n",
       "      <td>minkowski</td>\n",
       "      <td>9</td>\n",
       "      <td>0.585450</td>\n",
       "    </tr>\n",
       "    <tr>\n",
       "      <th>9</th>\n",
       "      <td>minkowski</td>\n",
       "      <td>10</td>\n",
       "      <td>0.589467</td>\n",
       "    </tr>\n",
       "    <tr>\n",
       "      <th>10</th>\n",
       "      <td>minkowski</td>\n",
       "      <td>15</td>\n",
       "      <td>0.578619</td>\n",
       "    </tr>\n",
       "    <tr>\n",
       "      <th>11</th>\n",
       "      <td>minkowski</td>\n",
       "      <td>17</td>\n",
       "      <td>0.586672</td>\n",
       "    </tr>\n",
       "    <tr>\n",
       "      <th>12</th>\n",
       "      <td>minkowski</td>\n",
       "      <td>20</td>\n",
       "      <td>0.592114</td>\n",
       "    </tr>\n",
       "    <tr>\n",
       "      <th>13</th>\n",
       "      <td>minkowski</td>\n",
       "      <td>25</td>\n",
       "      <td>0.571807</td>\n",
       "    </tr>\n",
       "    <tr>\n",
       "      <th>14</th>\n",
       "      <td>minkowski</td>\n",
       "      <td>50</td>\n",
       "      <td>0.543299</td>\n",
       "    </tr>\n",
       "    <tr>\n",
       "      <th>15</th>\n",
       "      <td>mahalanobis</td>\n",
       "      <td>1</td>\n",
       "      <td>NaN</td>\n",
       "    </tr>\n",
       "    <tr>\n",
       "      <th>16</th>\n",
       "      <td>mahalanobis</td>\n",
       "      <td>2</td>\n",
       "      <td>NaN</td>\n",
       "    </tr>\n",
       "    <tr>\n",
       "      <th>17</th>\n",
       "      <td>mahalanobis</td>\n",
       "      <td>3</td>\n",
       "      <td>NaN</td>\n",
       "    </tr>\n",
       "    <tr>\n",
       "      <th>18</th>\n",
       "      <td>mahalanobis</td>\n",
       "      <td>4</td>\n",
       "      <td>NaN</td>\n",
       "    </tr>\n",
       "    <tr>\n",
       "      <th>19</th>\n",
       "      <td>mahalanobis</td>\n",
       "      <td>5</td>\n",
       "      <td>NaN</td>\n",
       "    </tr>\n",
       "    <tr>\n",
       "      <th>20</th>\n",
       "      <td>mahalanobis</td>\n",
       "      <td>6</td>\n",
       "      <td>NaN</td>\n",
       "    </tr>\n",
       "    <tr>\n",
       "      <th>21</th>\n",
       "      <td>mahalanobis</td>\n",
       "      <td>7</td>\n",
       "      <td>NaN</td>\n",
       "    </tr>\n",
       "    <tr>\n",
       "      <th>22</th>\n",
       "      <td>mahalanobis</td>\n",
       "      <td>8</td>\n",
       "      <td>NaN</td>\n",
       "    </tr>\n",
       "    <tr>\n",
       "      <th>23</th>\n",
       "      <td>mahalanobis</td>\n",
       "      <td>9</td>\n",
       "      <td>NaN</td>\n",
       "    </tr>\n",
       "    <tr>\n",
       "      <th>24</th>\n",
       "      <td>mahalanobis</td>\n",
       "      <td>10</td>\n",
       "      <td>NaN</td>\n",
       "    </tr>\n",
       "    <tr>\n",
       "      <th>25</th>\n",
       "      <td>mahalanobis</td>\n",
       "      <td>15</td>\n",
       "      <td>NaN</td>\n",
       "    </tr>\n",
       "    <tr>\n",
       "      <th>26</th>\n",
       "      <td>mahalanobis</td>\n",
       "      <td>17</td>\n",
       "      <td>NaN</td>\n",
       "    </tr>\n",
       "    <tr>\n",
       "      <th>27</th>\n",
       "      <td>mahalanobis</td>\n",
       "      <td>20</td>\n",
       "      <td>NaN</td>\n",
       "    </tr>\n",
       "    <tr>\n",
       "      <th>28</th>\n",
       "      <td>mahalanobis</td>\n",
       "      <td>25</td>\n",
       "      <td>NaN</td>\n",
       "    </tr>\n",
       "    <tr>\n",
       "      <th>29</th>\n",
       "      <td>mahalanobis</td>\n",
       "      <td>50</td>\n",
       "      <td>NaN</td>\n",
       "    </tr>\n",
       "    <tr>\n",
       "      <th>30</th>\n",
       "      <td>manhattan</td>\n",
       "      <td>1</td>\n",
       "      <td>0.600389</td>\n",
       "    </tr>\n",
       "    <tr>\n",
       "      <th>31</th>\n",
       "      <td>manhattan</td>\n",
       "      <td>2</td>\n",
       "      <td>0.559682</td>\n",
       "    </tr>\n",
       "    <tr>\n",
       "      <th>32</th>\n",
       "      <td>manhattan</td>\n",
       "      <td>3</td>\n",
       "      <td>0.582784</td>\n",
       "    </tr>\n",
       "    <tr>\n",
       "      <th>33</th>\n",
       "      <td>manhattan</td>\n",
       "      <td>4</td>\n",
       "      <td>0.599000</td>\n",
       "    </tr>\n",
       "    <tr>\n",
       "      <th>34</th>\n",
       "      <td>manhattan</td>\n",
       "      <td>5</td>\n",
       "      <td>0.597575</td>\n",
       "    </tr>\n",
       "    <tr>\n",
       "      <th>35</th>\n",
       "      <td>manhattan</td>\n",
       "      <td>6</td>\n",
       "      <td>0.601685</td>\n",
       "    </tr>\n",
       "    <tr>\n",
       "      <th>36</th>\n",
       "      <td>manhattan</td>\n",
       "      <td>7</td>\n",
       "      <td>0.608552</td>\n",
       "    </tr>\n",
       "    <tr>\n",
       "      <th>37</th>\n",
       "      <td>manhattan</td>\n",
       "      <td>8</td>\n",
       "      <td>0.607146</td>\n",
       "    </tr>\n",
       "    <tr>\n",
       "      <th>38</th>\n",
       "      <td>manhattan</td>\n",
       "      <td>9</td>\n",
       "      <td>0.608497</td>\n",
       "    </tr>\n",
       "    <tr>\n",
       "      <th>39</th>\n",
       "      <td>manhattan</td>\n",
       "      <td>10</td>\n",
       "      <td>0.617919</td>\n",
       "    </tr>\n",
       "    <tr>\n",
       "      <th>40</th>\n",
       "      <td>manhattan</td>\n",
       "      <td>15</td>\n",
       "      <td>0.604313</td>\n",
       "    </tr>\n",
       "    <tr>\n",
       "      <th>41</th>\n",
       "      <td>manhattan</td>\n",
       "      <td>17</td>\n",
       "      <td>0.596205</td>\n",
       "    </tr>\n",
       "    <tr>\n",
       "      <th>42</th>\n",
       "      <td>manhattan</td>\n",
       "      <td>20</td>\n",
       "      <td>0.602943</td>\n",
       "    </tr>\n",
       "    <tr>\n",
       "      <th>43</th>\n",
       "      <td>manhattan</td>\n",
       "      <td>25</td>\n",
       "      <td>0.590726</td>\n",
       "    </tr>\n",
       "    <tr>\n",
       "      <th>44</th>\n",
       "      <td>manhattan</td>\n",
       "      <td>50</td>\n",
       "      <td>0.573047</td>\n",
       "    </tr>\n",
       "  </tbody>\n",
       "</table>\n",
       "</div>"
      ],
      "text/plain": [
       "         metric  n_neighbors  Accuracy\n",
       "0     minkowski            1  0.601796\n",
       "1     minkowski            2  0.552980\n",
       "2     minkowski            3  0.567864\n",
       "3     minkowski            4  0.586875\n",
       "4     minkowski            5  0.589522\n",
       "5     minkowski            6  0.592207\n",
       "6     minkowski            7  0.588171\n",
       "7     minkowski            8  0.605813\n",
       "8     minkowski            9  0.585450\n",
       "9     minkowski           10  0.589467\n",
       "10    minkowski           15  0.578619\n",
       "11    minkowski           17  0.586672\n",
       "12    minkowski           20  0.592114\n",
       "13    minkowski           25  0.571807\n",
       "14    minkowski           50  0.543299\n",
       "15  mahalanobis            1       NaN\n",
       "16  mahalanobis            2       NaN\n",
       "17  mahalanobis            3       NaN\n",
       "18  mahalanobis            4       NaN\n",
       "19  mahalanobis            5       NaN\n",
       "20  mahalanobis            6       NaN\n",
       "21  mahalanobis            7       NaN\n",
       "22  mahalanobis            8       NaN\n",
       "23  mahalanobis            9       NaN\n",
       "24  mahalanobis           10       NaN\n",
       "25  mahalanobis           15       NaN\n",
       "26  mahalanobis           17       NaN\n",
       "27  mahalanobis           20       NaN\n",
       "28  mahalanobis           25       NaN\n",
       "29  mahalanobis           50       NaN\n",
       "30    manhattan            1  0.600389\n",
       "31    manhattan            2  0.559682\n",
       "32    manhattan            3  0.582784\n",
       "33    manhattan            4  0.599000\n",
       "34    manhattan            5  0.597575\n",
       "35    manhattan            6  0.601685\n",
       "36    manhattan            7  0.608552\n",
       "37    manhattan            8  0.607146\n",
       "38    manhattan            9  0.608497\n",
       "39    manhattan           10  0.617919\n",
       "40    manhattan           15  0.604313\n",
       "41    manhattan           17  0.596205\n",
       "42    manhattan           20  0.602943\n",
       "43    manhattan           25  0.590726\n",
       "44    manhattan           50  0.573047"
      ]
     },
     "execution_count": 15,
     "metadata": {},
     "output_type": "execute_result"
    }
   ],
   "source": [
    "#display mean accuracy\n",
    "import pandas as pd\n",
    "print(clf_knn.best_params_)\n",
    "#df = pd.DataFrame(clf_ksvm.cv_results_[params])\n",
    "result_knn=pd.concat([pd.DataFrame(clf_knn.cv_results_[\"params\"]),pd.DataFrame(clf_knn.cv_results_[\"mean_test_score\"], columns=[\"Accuracy\"])],axis=1)\n",
    "result_knn"
   ]
  },
  {
   "cell_type": "code",
   "execution_count": 127,
   "id": "hired-boating",
   "metadata": {},
   "outputs": [
    {
     "data": {
      "image/png": "[encoded data removed]",
      "text/plain": [
       "<Figure size 432x288 with 1 Axes>"
      ]
     },
     "metadata": {
      "needs_background": "light"
     },
     "output_type": "display_data"
    }
   ],
   "source": [
    "plt.plot(result_knn.loc[0:14,\"n_neighbors\"],result_knn.loc[0:14,\"Accuracy\"])\n",
    "plt.plot(result_knn.loc[0:14,\"n_neighbors\"],result_knn.loc[30:44,\"Accuracy\"])\n",
    "\n",
    "plt.xlabel(\"N-neighbours\")\n",
    "plt.ylabel(\"Accuracy\")\n",
    "plt.title('Accuracy vs Nearest Neighbours')\n",
    "plt.legend(['minkowski', 'manhattan'])\n",
    "plt.show()"
   ]
  },
  {
   "cell_type": "code",
   "execution_count": 134,
   "id": "vital-three",
   "metadata": {},
   "outputs": [
    {
     "name": "stdout",
     "output_type": "stream",
     "text": [
      "[[14  0  3  3  1  2  3  0  1  1]\n",
      " [ 0 15  0  0  0  0  0  0  0  0]\n",
      " [ 0  0 15  3  1  8  0  0  2  0]\n",
      " [ 0  0  0 24  2  1  0  3  0  0]\n",
      " [ 2  0  0  3 14  0  0  2  4  1]\n",
      " [ 0  1  0  0  0 26  0  2  1  0]\n",
      " [ 4  0  1  2  0  0 18  0  0  2]\n",
      " [ 0  0  1  3  1  0  0 11  0  0]\n",
      " [ 0  0  3  1  3  1  0  2 14  1]\n",
      " [ 1  0  3  5  0  1  1  2  4  4]]\n",
      "              precision    recall  f1-score   support\n",
      "\n",
      "         1.0       0.67      0.50      0.57        28\n",
      "         2.0       0.94      1.00      0.97        15\n",
      "         3.0       0.58      0.52      0.55        29\n",
      "         4.0       0.55      0.80      0.65        30\n",
      "         5.0       0.64      0.54      0.58        26\n",
      "         6.0       0.67      0.87      0.75        30\n",
      "         7.0       0.82      0.67      0.73        27\n",
      "         8.0       0.50      0.69      0.58        16\n",
      "         9.0       0.54      0.56      0.55        25\n",
      "        10.0       0.44      0.19      0.27        21\n",
      "\n",
      "    accuracy                           0.63       247\n",
      "   macro avg       0.63      0.63      0.62       247\n",
      "weighted avg       0.63      0.63      0.62       247\n",
      "\n"
     ]
    },
    {
     "data": {
      "text/plain": [
       "<sklearn.metrics._plot.confusion_matrix.ConfusionMatrixDisplay at 0x2178dc4c850>"
      ]
     },
     "execution_count": 134,
     "metadata": {},
     "output_type": "execute_result"
    },
    {
     "data": {
      "image/png": "[encoded data removed]",
      "text/plain": [
       "<Figure size 432x288 with 2 Axes>"
      ]
     },
     "metadata": {
      "needs_background": "light"
     },
     "output_type": "display_data"
    }
   ],
   "source": [
    "# Confusion matrix on test data\n",
    "from sklearn.metrics import confusion_matrix\n",
    "from sklearn.metrics import ConfusionMatrixDisplay\n",
    "from sklearn.metrics import classification_report,confusion_matrix\n",
    "from sklearn.metrics import plot_confusion_matrix\n",
    "clf_knn1 = KNeighborsClassifier(n_neighbors=10,metric='manhattan')\n",
    "clf_knn1.fit(X_train, y_train)\n",
    "score=clf_knn1.score(X_test, y_test)\n",
    "predictions = clf_knn1.predict(X_test)\n",
    "\n",
    "print(confusion_matrix(y_test,predictions))\n",
    "print(classification_report(y_test,predictions))\n",
    "#plot_confusion_matrix(clf_knn1, X_test, y_test, labels= [\"Blue\",\"classical\", \"country\", \"disco\", \"hiphop\", \"jazz\", \"metal\", \"pop\", \"reggae\",\"rock\"])  \n",
    "ConfusionMatrixDisplay(confusion_matrix(y_test, predictions)).plot()"
   ]
  },
  {
   "cell_type": "code",
   "execution_count": 17,
   "id": "retired-fifth",
   "metadata": {},
   "outputs": [],
   "source": [
    "from sklearn import decomposition\n",
    "pca = decomposition.PCA(n_components=2)\n",
    "pca.fit(X_train)\n",
    "Xi_train = pca.transform(X_train)\n",
    "Xi_test = pca.transform(X_test)"
   ]
  },
  {
   "cell_type": "code",
   "execution_count": 18,
   "id": "running-surveillance",
   "metadata": {},
   "outputs": [
    {
     "data": {
      "text/plain": [
       "KNeighborsClassifier(metric='manhattan', n_neighbors=10)"
      ]
     },
     "execution_count": 18,
     "metadata": {},
     "output_type": "execute_result"
    }
   ],
   "source": [
    "clf_t = KNeighborsClassifier(n_neighbors=10,metric='manhattan')\n",
    "clf_t.fit(Xi_train, y_train)"
   ]
  },
  {
   "cell_type": "code",
   "execution_count": 19,
   "id": "distinguished-operator",
   "metadata": {},
   "outputs": [
    {
     "data": {
      "image/png": "[encoded data removed]",
      "text/plain": [
       "<Figure size 800x800 with 1 Axes>"
      ]
     },
     "metadata": {
      "needs_background": "light"
     },
     "output_type": "display_data"
    }
   ],
   "source": [
    "# Reference code from : https://stackoverflow.com/questions/45075638/graph-k-nn-decision-boundaries-in-matplotlib\n",
    "from matplotlib.colors import ListedColormap\n",
    "h = .02  # step size in the mesh\n",
    "\n",
    "# Create color maps\n",
    "cmap_light = ListedColormap(['#FF0000', '#00FF00','#FF00FF','#00FFFF','#008000','#FFFF00','#008080','#800080','#800000','#000080'])\n",
    "cmap_bold = ListedColormap(['#FF0000', '#00FF00','#FF00FF','#00FFFF','#008000','#FFFF00','#008080','#800080','#800000','#000080'])\n",
    "\n",
    "\n",
    "\n",
    "# Plot the decision boundary. For that, we will assign a color to each\n",
    "# point in the mesh [x_min, x_max]x[y_min, y_max].\n",
    "x_min, x_max = Xi_train[:, 0].min() - 1, Xi_train[:, 0].max() + 1\n",
    "y_min, y_max = Xi_train[:, 1].min() - 1, Xi_train[:, 1].max() + 1\n",
    "xx, yy = np.meshgrid(np.arange(x_min, x_max, h), np.arange(y_min, y_max, h))\n",
    "Z = clf_t.predict(np.c_[xx.ravel(), yy.ravel()])\n",
    "\n",
    "# Put the result into a color plot\n",
    "Z = Z.reshape(xx.shape)\n",
    "plt.figure(figsize=(10, 10), dpi=80)\n",
    "plt.pcolormesh(xx, yy, Z, cmap=cmap_light)\n",
    "\n",
    "# Plot also the training points\n",
    "plt.scatter(Xi_train[:, 0], Xi_train[:, 1], c=y_train.to_numpy().flatten(), cmap=cmap_bold)\n",
    "#plt.scatter(Xi_test[:, 0], Xi_test[:, 1], c=ytest, marker='x',cmap= cmap_bold)\n",
    "plt.xlim(xx.min(), xx.max())\n",
    "plt.ylim(yy.min(), yy.max())\n",
    "#plt.title(\"3-Class classification (k = %i, weights = '%s')\"% (n_neighbors))\n",
    "\n",
    "plt.show()"
   ]
  },
  {
   "cell_type": "markdown",
   "id": "amazing-remains",
   "metadata": {},
   "source": [
    "# SVM - Linear"
   ]
  },
  {
   "cell_type": "code",
   "execution_count": 20,
   "id": "miniature-tulsa",
   "metadata": {},
   "outputs": [
    {
     "name": "stdout",
     "output_type": "stream",
     "text": [
      "{'C': 0.1}\n"
     ]
    }
   ],
   "source": [
    "#Tuning the SVM model\n",
    "model = SVC(kernel='linear')\n",
    "params = [{'C': [0.001,0.01,0.025,0.08,0.01,0.1,1,2,5,10]}]\n",
    "\n",
    "clf_svm = GridSearchCV(model, params, cv = 10, scoring='accuracy')\n",
    "\n",
    "clf_svm.fit(X_train, y_train)\n",
    "print(clf_svm.best_params_)\n",
    "k=clf_svm.best_params_['C']"
   ]
  },
  {
   "cell_type": "code",
   "execution_count": 21,
   "id": "fossil-soccer",
   "metadata": {},
   "outputs": [
    {
     "name": "stdout",
     "output_type": "stream",
     "text": [
      "{'C': 0.1}\n"
     ]
    },
    {
     "data": {
      "text/html": [
       "<div>\n",
       "<style scoped>\n",
       "    .dataframe tbody tr th:only-of-type {\n",
       "        vertical-align: middle;\n",
       "    }\n",
       "\n",
       "    .dataframe tbody tr th {\n",
       "        vertical-align: top;\n",
       "    }\n",
       "\n",
       "    .dataframe thead th {\n",
       "        text-align: right;\n",
       "    }\n",
       "</style>\n",
       "<table border=\"1\" class=\"dataframe\">\n",
       "  <thead>\n",
       "    <tr style=\"text-align: right;\">\n",
       "      <th></th>\n",
       "      <th>C</th>\n",
       "      <th>Accuracy</th>\n",
       "    </tr>\n",
       "  </thead>\n",
       "  <tbody>\n",
       "    <tr>\n",
       "      <th>0</th>\n",
       "      <td>0.001</td>\n",
       "      <td>0.407867</td>\n",
       "    </tr>\n",
       "    <tr>\n",
       "      <th>1</th>\n",
       "      <td>0.010</td>\n",
       "      <td>0.601573</td>\n",
       "    </tr>\n",
       "    <tr>\n",
       "      <th>2</th>\n",
       "      <td>0.025</td>\n",
       "      <td>0.625935</td>\n",
       "    </tr>\n",
       "    <tr>\n",
       "      <th>3</th>\n",
       "      <td>0.080</td>\n",
       "      <td>0.631414</td>\n",
       "    </tr>\n",
       "    <tr>\n",
       "      <th>4</th>\n",
       "      <td>0.010</td>\n",
       "      <td>0.601573</td>\n",
       "    </tr>\n",
       "    <tr>\n",
       "      <th>5</th>\n",
       "      <td>0.100</td>\n",
       "      <td>0.632729</td>\n",
       "    </tr>\n",
       "    <tr>\n",
       "      <th>6</th>\n",
       "      <td>1.000</td>\n",
       "      <td>0.631433</td>\n",
       "    </tr>\n",
       "    <tr>\n",
       "      <th>7</th>\n",
       "      <td>2.000</td>\n",
       "      <td>0.624750</td>\n",
       "    </tr>\n",
       "    <tr>\n",
       "      <th>8</th>\n",
       "      <td>5.000</td>\n",
       "      <td>0.619252</td>\n",
       "    </tr>\n",
       "    <tr>\n",
       "      <th>9</th>\n",
       "      <td>10.000</td>\n",
       "      <td>0.616568</td>\n",
       "    </tr>\n",
       "  </tbody>\n",
       "</table>\n",
       "</div>"
      ],
      "text/plain": [
       "        C  Accuracy\n",
       "0   0.001  0.407867\n",
       "1   0.010  0.601573\n",
       "2   0.025  0.625935\n",
       "3   0.080  0.631414\n",
       "4   0.010  0.601573\n",
       "5   0.100  0.632729\n",
       "6   1.000  0.631433\n",
       "7   2.000  0.624750\n",
       "8   5.000  0.619252\n",
       "9  10.000  0.616568"
      ]
     },
     "execution_count": 21,
     "metadata": {},
     "output_type": "execute_result"
    }
   ],
   "source": [
    "#display mean accuracy\n",
    "import pandas as pd\n",
    "print(clf_svm.best_params_)\n",
    "#df = pd.DataFrame(clf_ksvm.cv_results_[params])\n",
    "pd.concat([pd.DataFrame(clf_svm.cv_results_[\"params\"]),pd.DataFrame(clf_svm.cv_results_[\"mean_test_score\"], columns=[\"Accuracy\"])],axis=1)"
   ]
  },
  {
   "cell_type": "code",
   "execution_count": 22,
   "id": "tough-jurisdiction",
   "metadata": {},
   "outputs": [
    {
     "name": "stdout",
     "output_type": "stream",
     "text": [
      "[[14  0  3  1  1  1  5  0  0  3]\n",
      " [ 0 15  0  0  0  0  0  0  0  0]\n",
      " [ 3  0 17  3  0  1  0  1  2  2]\n",
      " [ 0  0  0 17  5  0  0  6  1  1]\n",
      " [ 2  0  0  0 19  0  0  3  1  1]\n",
      " [ 0  1  1  0  0 24  0  1  1  2]\n",
      " [ 4  0  1  1  1  0 20  0  0  0]\n",
      " [ 0  0  1  2  0  0  0 11  1  1]\n",
      " [ 1  0  2  1  2  0  0  2 16  1]\n",
      " [ 2  0  4  2  1  0  1  2  1  8]]\n",
      "              precision    recall  f1-score   support\n",
      "\n",
      "         1.0       0.54      0.50      0.52        28\n",
      "         2.0       0.94      1.00      0.97        15\n",
      "         3.0       0.59      0.59      0.59        29\n",
      "         4.0       0.63      0.57      0.60        30\n",
      "         5.0       0.66      0.73      0.69        26\n",
      "         6.0       0.92      0.80      0.86        30\n",
      "         7.0       0.77      0.74      0.75        27\n",
      "         8.0       0.42      0.69      0.52        16\n",
      "         9.0       0.70      0.64      0.67        25\n",
      "        10.0       0.42      0.38      0.40        21\n",
      "\n",
      "    accuracy                           0.65       247\n",
      "   macro avg       0.66      0.66      0.66       247\n",
      "weighted avg       0.66      0.65      0.65       247\n",
      "\n"
     ]
    }
   ],
   "source": [
    "#SVM Kernel\n",
    "clf_svm1 = SVC(kernel=\"linear\", C=0.1)\n",
    "clf_svm1.fit(X_train, y_train)\n",
    "score=clf_svm1.score(X_test, y_test)\n",
    "predictions = clf_svm1.predict(X_test)\n",
    "\n",
    "print(confusion_matrix(y_test,predictions))\n",
    "print(classification_report(y_test,predictions))"
   ]
  },
  {
   "cell_type": "markdown",
   "id": "funded-crest",
   "metadata": {},
   "source": [
    "# SVM - Kernel"
   ]
  },
  {
   "cell_type": "code",
   "execution_count": 180,
   "id": "secondary-motorcycle",
   "metadata": {},
   "outputs": [
    {
     "name": "stdout",
     "output_type": "stream",
     "text": [
      "{'C': 10, 'kernel': 'rbf'}\n"
     ]
    }
   ],
   "source": [
    "#Tuning the SVM model  0.0001,0.001,0.01,0.1,1,5,\n",
    "model = SVC(degree=5, gamma=0.01)\n",
    "params = [{'kernel':['poly', 'rbf'],'C': [0.0001,0.001,0.01,0.1,1,5,10,50,100,500]}]\n",
    "\n",
    "clf_svm = GridSearchCV(model, params, cv = 10, scoring='accuracy')\n",
    "\n",
    "clf_svm.fit(X_train, y_train)  \n",
    "\n",
    "print(clf_svm.best_params_)\n",
    "k=clf_svm.best_params_['C']"
   ]
  },
  {
   "cell_type": "code",
   "execution_count": 181,
   "id": "twelve-warner",
   "metadata": {},
   "outputs": [
    {
     "name": "stdout",
     "output_type": "stream",
     "text": [
      "{'C': 10, 'kernel': 'rbf'}\n"
     ]
    },
    {
     "data": {
      "text/html": [
       "<div>\n",
       "<style scoped>\n",
       "    .dataframe tbody tr th:only-of-type {\n",
       "        vertical-align: middle;\n",
       "    }\n",
       "\n",
       "    .dataframe tbody tr th {\n",
       "        vertical-align: top;\n",
       "    }\n",
       "\n",
       "    .dataframe thead th {\n",
       "        text-align: right;\n",
       "    }\n",
       "</style>\n",
       "<table border=\"1\" class=\"dataframe\">\n",
       "  <thead>\n",
       "    <tr style=\"text-align: right;\">\n",
       "      <th></th>\n",
       "      <th>C</th>\n",
       "      <th>kernel</th>\n",
       "      <th>Accuracy</th>\n",
       "    </tr>\n",
       "  </thead>\n",
       "  <tbody>\n",
       "    <tr>\n",
       "      <th>0</th>\n",
       "      <td>0.0001</td>\n",
       "      <td>poly</td>\n",
       "      <td>0.112458</td>\n",
       "    </tr>\n",
       "    <tr>\n",
       "      <th>1</th>\n",
       "      <td>0.0010</td>\n",
       "      <td>poly</td>\n",
       "      <td>0.112458</td>\n",
       "    </tr>\n",
       "    <tr>\n",
       "      <th>2</th>\n",
       "      <td>0.0100</td>\n",
       "      <td>poly</td>\n",
       "      <td>0.112458</td>\n",
       "    </tr>\n",
       "    <tr>\n",
       "      <th>3</th>\n",
       "      <td>0.1000</td>\n",
       "      <td>poly</td>\n",
       "      <td>0.112458</td>\n",
       "    </tr>\n",
       "    <tr>\n",
       "      <th>4</th>\n",
       "      <td>1.0000</td>\n",
       "      <td>poly</td>\n",
       "      <td>0.125972</td>\n",
       "    </tr>\n",
       "    <tr>\n",
       "      <th>5</th>\n",
       "      <td>5.0000</td>\n",
       "      <td>poly</td>\n",
       "      <td>0.165254</td>\n",
       "    </tr>\n",
       "    <tr>\n",
       "      <th>6</th>\n",
       "      <td>10.0000</td>\n",
       "      <td>poly</td>\n",
       "      <td>0.191114</td>\n",
       "    </tr>\n",
       "    <tr>\n",
       "      <th>7</th>\n",
       "      <td>50.0000</td>\n",
       "      <td>poly</td>\n",
       "      <td>0.296853</td>\n",
       "    </tr>\n",
       "    <tr>\n",
       "      <th>8</th>\n",
       "      <td>100.0000</td>\n",
       "      <td>poly</td>\n",
       "      <td>0.345613</td>\n",
       "    </tr>\n",
       "    <tr>\n",
       "      <th>9</th>\n",
       "      <td>500.0000</td>\n",
       "      <td>poly</td>\n",
       "      <td>0.429711</td>\n",
       "    </tr>\n",
       "    <tr>\n",
       "      <th>10</th>\n",
       "      <td>0.0001</td>\n",
       "      <td>rbf</td>\n",
       "      <td>0.173528</td>\n",
       "    </tr>\n",
       "    <tr>\n",
       "      <th>11</th>\n",
       "      <td>0.0010</td>\n",
       "      <td>rbf</td>\n",
       "      <td>0.173528</td>\n",
       "    </tr>\n",
       "    <tr>\n",
       "      <th>12</th>\n",
       "      <td>0.0100</td>\n",
       "      <td>rbf</td>\n",
       "      <td>0.173528</td>\n",
       "    </tr>\n",
       "    <tr>\n",
       "      <th>13</th>\n",
       "      <td>0.1000</td>\n",
       "      <td>rbf</td>\n",
       "      <td>0.437616</td>\n",
       "    </tr>\n",
       "    <tr>\n",
       "      <th>14</th>\n",
       "      <td>1.0000</td>\n",
       "      <td>rbf</td>\n",
       "      <td>0.639559</td>\n",
       "    </tr>\n",
       "    <tr>\n",
       "      <th>15</th>\n",
       "      <td>5.0000</td>\n",
       "      <td>rbf</td>\n",
       "      <td>0.693743</td>\n",
       "    </tr>\n",
       "    <tr>\n",
       "      <th>16</th>\n",
       "      <td>10.0000</td>\n",
       "      <td>rbf</td>\n",
       "      <td>0.703203</td>\n",
       "    </tr>\n",
       "    <tr>\n",
       "      <th>17</th>\n",
       "      <td>50.0000</td>\n",
       "      <td>rbf</td>\n",
       "      <td>0.693725</td>\n",
       "    </tr>\n",
       "    <tr>\n",
       "      <th>18</th>\n",
       "      <td>100.0000</td>\n",
       "      <td>rbf</td>\n",
       "      <td>0.693725</td>\n",
       "    </tr>\n",
       "    <tr>\n",
       "      <th>19</th>\n",
       "      <td>500.0000</td>\n",
       "      <td>rbf</td>\n",
       "      <td>0.693725</td>\n",
       "    </tr>\n",
       "  </tbody>\n",
       "</table>\n",
       "</div>"
      ],
      "text/plain": [
       "           C kernel  Accuracy\n",
       "0     0.0001   poly  0.112458\n",
       "1     0.0010   poly  0.112458\n",
       "2     0.0100   poly  0.112458\n",
       "3     0.1000   poly  0.112458\n",
       "4     1.0000   poly  0.125972\n",
       "5     5.0000   poly  0.165254\n",
       "6    10.0000   poly  0.191114\n",
       "7    50.0000   poly  0.296853\n",
       "8   100.0000   poly  0.345613\n",
       "9   500.0000   poly  0.429711\n",
       "10    0.0001    rbf  0.173528\n",
       "11    0.0010    rbf  0.173528\n",
       "12    0.0100    rbf  0.173528\n",
       "13    0.1000    rbf  0.437616\n",
       "14    1.0000    rbf  0.639559\n",
       "15    5.0000    rbf  0.693743\n",
       "16   10.0000    rbf  0.703203\n",
       "17   50.0000    rbf  0.693725\n",
       "18  100.0000    rbf  0.693725\n",
       "19  500.0000    rbf  0.693725"
      ]
     },
     "execution_count": 181,
     "metadata": {},
     "output_type": "execute_result"
    }
   ],
   "source": [
    "#display mean accuracy\n",
    "import pandas as pd\n",
    "print(clf_svm.best_params_)\n",
    "#df = pd.DataFrame(clf_ksvm.cv_results_[params])\n",
    "result_svm=pd.concat([pd.DataFrame(clf_svm.cv_results_[\"params\"]),pd.DataFrame(clf_svm.cv_results_[\"mean_test_score\"], columns=[\"Accuracy\"])],axis=1)\n",
    "result_svm = result_svm.sort_values(by=['kernel','C']).reset_index(drop=True)\n",
    "result_svm"
   ]
  },
  {
   "cell_type": "code",
   "execution_count": 190,
   "id": "floral-priest",
   "metadata": {},
   "outputs": [
    {
     "data": {
      "image/png": "[encoded data removed]",
      "text/plain": [
       "<Figure size 432x288 with 1 Axes>"
      ]
     },
     "metadata": {
      "needs_background": "light"
     },
     "output_type": "display_data"
    }
   ],
   "source": [
    "plt.plot(result_svm.loc[0:9,\"C\"], result_svm.loc[0:9,\"Accuracy\"])\n",
    "plt.plot(result_svm.loc[0:9,\"C\"],result_svm.loc[10:19,\"Accuracy\"])\n",
    "\n",
    "plt.xlabel(\"Langrangian Multiplier\")\n",
    "plt.ylabel(\"Accuracy\")\n",
    "plt.title('Accuracy vs Lagrangian Multiplier')\n",
    "plt.legend(['Poly (d=3)', 'rbf (var=0.01)'])\n",
    "plt.show()"
   ]
  },
  {
   "cell_type": "code",
   "execution_count": 191,
   "id": "outdoor-adams",
   "metadata": {},
   "outputs": [
    {
     "name": "stdout",
     "output_type": "stream",
     "text": [
      "[[19  0  0  1  0  0  4  0  0  4]\n",
      " [ 0 15  0  0  0  0  0  0  0  0]\n",
      " [ 2  0 21  2  0  1  0  1  1  1]\n",
      " [ 0  0  0 19  3  0  0  5  2  1]\n",
      " [ 0  0  0  1 17  0  1  2  3  2]\n",
      " [ 1  1  0  0  0 27  0  0  0  1]\n",
      " [ 3  0  2  1  0  0 21  0  0  0]\n",
      " [ 0  0  1  2  0  0  0 11  1  1]\n",
      " [ 1  0  2  0  2  0  0  2 17  1]\n",
      " [ 2  0  2  4  0  1  1  3  0  8]]\n",
      "              precision    recall  f1-score   support\n",
      "\n",
      "         1.0       0.68      0.68      0.68        28\n",
      "         2.0       0.94      1.00      0.97        15\n",
      "         3.0       0.75      0.72      0.74        29\n",
      "         4.0       0.63      0.63      0.63        30\n",
      "         5.0       0.77      0.65      0.71        26\n",
      "         6.0       0.93      0.90      0.92        30\n",
      "         7.0       0.78      0.78      0.78        27\n",
      "         8.0       0.46      0.69      0.55        16\n",
      "         9.0       0.71      0.68      0.69        25\n",
      "        10.0       0.42      0.38      0.40        21\n",
      "\n",
      "    accuracy                           0.71       247\n",
      "   macro avg       0.71      0.71      0.71       247\n",
      "weighted avg       0.72      0.71      0.71       247\n",
      "\n"
     ]
    },
    {
     "data": {
      "text/plain": [
       "<sklearn.metrics._plot.confusion_matrix.ConfusionMatrixDisplay at 0x2178fe4da30>"
      ]
     },
     "execution_count": 191,
     "metadata": {},
     "output_type": "execute_result"
    },
    {
     "data": {
      "image/png": "[encoded data removed]",
      "text/plain": [
       "<Figure size 432x288 with 2 Axes>"
      ]
     },
     "metadata": {
      "needs_background": "light"
     },
     "output_type": "display_data"
    }
   ],
   "source": [
    "#SVM Kernel\n",
    "clf_svm1 = SVC(kernel=\"rbf\", C=10,gamma=0.01)\n",
    "clf_svm1.fit(X_train, y_train)   # X_train\n",
    "#score=clf_svm1.score(X_test, y_test)\n",
    "predictions = clf_svm1.predict(X_test) #X_test\n",
    "\n",
    "print(confusion_matrix(y_test,predictions))\n",
    "print(classification_report(y_test,predictions))\n",
    "ConfusionMatrixDisplay(confusion_matrix(y_test, predictions)).plot()"
   ]
  },
  {
   "cell_type": "code",
   "execution_count": 26,
   "id": "practical-genetics",
   "metadata": {},
   "outputs": [],
   "source": [
    "from sklearn import decomposition\n",
    "pca = decomposition.PCA(n_components=2)\n",
    "pca.fit(X_train)\n",
    "Xi_train = pca.transform(X_train)\n",
    "Xi_test = pca.transform(X_test)"
   ]
  },
  {
   "cell_type": "code",
   "execution_count": 27,
   "id": "random-deviation",
   "metadata": {},
   "outputs": [
    {
     "data": {
      "text/plain": [
       "SVC(C=10, gamma=0.01)"
      ]
     },
     "execution_count": 27,
     "metadata": {},
     "output_type": "execute_result"
    }
   ],
   "source": [
    "clf_t = SVC(kernel=\"rbf\", C=10,gamma=0.01)\n",
    "clf_t.fit(Xi_train, y_train)"
   ]
  },
  {
   "cell_type": "code",
   "execution_count": 28,
   "id": "above-paint",
   "metadata": {},
   "outputs": [
    {
     "data": {
      "image/png": "[encoded data removed]",
      "text/plain": [
       "<Figure size 800x800 with 1 Axes>"
      ]
     },
     "metadata": {
      "needs_background": "light"
     },
     "output_type": "display_data"
    }
   ],
   "source": [
    "# Reference code from : https://stackoverflow.com/questions/45075638/graph-k-nn-decision-boundaries-in-matplotlib\n",
    "from matplotlib.colors import ListedColormap\n",
    "h = .02  # step size in the mesh\n",
    "\n",
    "# Create color maps\n",
    "cmap_light = ListedColormap(['#FF0000', '#00FF00','#FF00FF','#00FFFF','#008000','#FFFF00','#008080','#800080','#800000','#000080'])\n",
    "cmap_bold = ListedColormap(['#FF0000', '#00FF00','#FF00FF','#00FFFF','#008000','#FFFF00','#008080','#800080','#800000','#000080'])\n",
    "\n",
    "\n",
    "\n",
    "# Plot the decision boundary. For that, we will assign a color to each\n",
    "# point in the mesh [x_min, x_max]x[y_min, y_max].\n",
    "x_min, x_max = Xi_train[:, 0].min() - 1, Xi_train[:, 0].max() + 1\n",
    "y_min, y_max = Xi_train[:, 1].min() - 1, Xi_train[:, 1].max() + 1\n",
    "xx, yy = np.meshgrid(np.arange(x_min, x_max, h), np.arange(y_min, y_max, h))\n",
    "Z = clf_t.predict(np.c_[xx.ravel(), yy.ravel()])\n",
    "\n",
    "# Put the result into a color plot\n",
    "Z = Z.reshape(xx.shape)\n",
    "plt.figure(figsize=(10, 10), dpi=80)\n",
    "plt.pcolormesh(xx, yy, Z, cmap=cmap_light)\n",
    "\n",
    "# Plot also the training points\n",
    "plt.scatter(Xi_train[:, 0], Xi_train[:, 1], c=y_train.to_numpy().flatten(), cmap=cmap_bold)\n",
    "#plt.scatter(Xi_test[:, 0], Xi_test[:, 1], c=ytest, marker='x',cmap= cmap_bold)\n",
    "plt.xlim(xx.min(), xx.max())\n",
    "plt.ylim(yy.min(), yy.max())\n",
    "#plt.title(\"3-Class classification (k = %i, weights = '%s')\"% (n_neighbors))\n",
    "\n",
    "plt.show()"
   ]
  },
  {
   "cell_type": "markdown",
   "id": "activated-shopping",
   "metadata": {},
   "source": [
    "# Bagging: CART and Random Forest"
   ]
  },
  {
   "cell_type": "code",
   "execution_count": 193,
   "id": "political-aberdeen",
   "metadata": {},
   "outputs": [
    {
     "data": {
      "text/plain": [
       "DecisionTreeClassifier()"
      ]
     },
     "execution_count": 193,
     "metadata": {},
     "output_type": "execute_result"
    }
   ],
   "source": [
    "#CART train model\n",
    "from sklearn import tree\n",
    "clf = tree.DecisionTreeClassifier()\n",
    "clf.fit(X_train, y_train)"
   ]
  },
  {
   "cell_type": "code",
   "execution_count": 194,
   "id": "brazilian-power",
   "metadata": {},
   "outputs": [
    {
     "data": {
      "text/plain": [
       "0.47368421052631576"
      ]
     },
     "execution_count": 194,
     "metadata": {},
     "output_type": "execute_result"
    }
   ],
   "source": [
    "# CART accuracy\n",
    "ypred = clf.predict(X_test)\n",
    "error_cart = sum((ypred==y_test.to_numpy().flatten()))/y_test.size\n",
    "error_cart"
   ]
  },
  {
   "cell_type": "code",
   "execution_count": 195,
   "id": "arbitrary-kazakhstan",
   "metadata": {},
   "outputs": [
    {
     "data": {
      "text/plain": [
       "16"
      ]
     },
     "execution_count": 195,
     "metadata": {},
     "output_type": "execute_result"
    }
   ],
   "source": [
    "clf.get_depth()"
   ]
  },
  {
   "cell_type": "code",
   "execution_count": 196,
   "id": "enabling-hopkins",
   "metadata": {},
   "outputs": [
    {
     "data": {
      "text/plain": [
       "0.9986449864498645"
      ]
     },
     "execution_count": 196,
     "metadata": {},
     "output_type": "execute_result"
    }
   ],
   "source": [
    "#Training error\n",
    "cv_acc=cross_val_score(clf, X_train, y_train, cv=10).mean()\n",
    "cv_acc\n",
    "\n",
    "\n",
    "ypred = clf.predict(X_train)\n",
    "error_cart = sum((ypred==y_train.to_numpy().flatten()))/y_train.size\n",
    "error_cart"
   ]
  },
  {
   "cell_type": "code",
   "execution_count": 197,
   "id": "baking-correlation",
   "metadata": {},
   "outputs": [
    {
     "name": "stdout",
     "output_type": "stream",
     "text": [
      "{'ccp_alpha': 0.00053, 'max_depth': 8}\n"
     ]
    }
   ],
   "source": [
    "#Tuning the decision tree model\n",
    "model = tree.DecisionTreeClassifier()\n",
    "params = [{'ccp_alpha': [0,0.00051,0.00052,0.00053,0.00054],'max_depth':[5,8,9]}]\n",
    "\n",
    "clf = GridSearchCV(model, params, cv = 10, scoring='accuracy')\n",
    "\n",
    "clf.fit(X_train, y_train)  \n",
    "\n",
    "print(clf.best_params_)"
   ]
  },
  {
   "cell_type": "code",
   "execution_count": 198,
   "id": "invisible-momentum",
   "metadata": {},
   "outputs": [
    {
     "name": "stdout",
     "output_type": "stream",
     "text": [
      "{'ccp_alpha': 0.00053, 'max_depth': 8}\n"
     ]
    }
   ],
   "source": [
    "#display mean accuracy\n",
    "import pandas as pd\n",
    "print(clf.best_params_)\n",
    "#df = pd.DataFrame(clf_ksvm.cv_results_[params])\n",
    "results_cart=pd.concat([pd.DataFrame(clf.cv_results_[\"params\"]),pd.DataFrame(clf.cv_results_[\"mean_test_score\"], columns=[\"Accuracy\"])],axis=1)"
   ]
  },
  {
   "cell_type": "code",
   "execution_count": 229,
   "id": "bulgarian-excuse",
   "metadata": {},
   "outputs": [
    {
     "data": {
      "text/html": [
       "<div>\n",
       "<style scoped>\n",
       "    .dataframe tbody tr th:only-of-type {\n",
       "        vertical-align: middle;\n",
       "    }\n",
       "\n",
       "    .dataframe tbody tr th {\n",
       "        vertical-align: top;\n",
       "    }\n",
       "\n",
       "    .dataframe thead th {\n",
       "        text-align: right;\n",
       "    }\n",
       "</style>\n",
       "<table border=\"1\" class=\"dataframe\">\n",
       "  <thead>\n",
       "    <tr style=\"text-align: right;\">\n",
       "      <th></th>\n",
       "      <th>ccp_alpha</th>\n",
       "      <th>max_depth</th>\n",
       "      <th>Accuracy</th>\n",
       "    </tr>\n",
       "  </thead>\n",
       "  <tbody>\n",
       "    <tr>\n",
       "      <th>0</th>\n",
       "      <td>0.00000</td>\n",
       "      <td>5</td>\n",
       "      <td>0.433673</td>\n",
       "    </tr>\n",
       "    <tr>\n",
       "      <th>1</th>\n",
       "      <td>0.00000</td>\n",
       "      <td>8</td>\n",
       "      <td>0.448445</td>\n",
       "    </tr>\n",
       "    <tr>\n",
       "      <th>2</th>\n",
       "      <td>0.00000</td>\n",
       "      <td>9</td>\n",
       "      <td>0.439023</td>\n",
       "    </tr>\n",
       "    <tr>\n",
       "      <th>3</th>\n",
       "      <td>0.00051</td>\n",
       "      <td>5</td>\n",
       "      <td>0.433673</td>\n",
       "    </tr>\n",
       "    <tr>\n",
       "      <th>4</th>\n",
       "      <td>0.00051</td>\n",
       "      <td>8</td>\n",
       "      <td>0.448482</td>\n",
       "    </tr>\n",
       "    <tr>\n",
       "      <th>5</th>\n",
       "      <td>0.00051</td>\n",
       "      <td>9</td>\n",
       "      <td>0.448575</td>\n",
       "    </tr>\n",
       "    <tr>\n",
       "      <th>6</th>\n",
       "      <td>0.00052</td>\n",
       "      <td>5</td>\n",
       "      <td>0.432321</td>\n",
       "    </tr>\n",
       "    <tr>\n",
       "      <th>7</th>\n",
       "      <td>0.00052</td>\n",
       "      <td>8</td>\n",
       "      <td>0.447168</td>\n",
       "    </tr>\n",
       "    <tr>\n",
       "      <th>8</th>\n",
       "      <td>0.00052</td>\n",
       "      <td>9</td>\n",
       "      <td>0.455294</td>\n",
       "    </tr>\n",
       "    <tr>\n",
       "      <th>9</th>\n",
       "      <td>0.00053</td>\n",
       "      <td>5</td>\n",
       "      <td>0.435006</td>\n",
       "    </tr>\n",
       "    <tr>\n",
       "      <th>10</th>\n",
       "      <td>0.00053</td>\n",
       "      <td>8</td>\n",
       "      <td>0.456646</td>\n",
       "    </tr>\n",
       "    <tr>\n",
       "      <th>11</th>\n",
       "      <td>0.00053</td>\n",
       "      <td>9</td>\n",
       "      <td>0.434913</td>\n",
       "    </tr>\n",
       "    <tr>\n",
       "      <th>12</th>\n",
       "      <td>0.00054</td>\n",
       "      <td>5</td>\n",
       "      <td>0.432303</td>\n",
       "    </tr>\n",
       "    <tr>\n",
       "      <th>13</th>\n",
       "      <td>0.00054</td>\n",
       "      <td>8</td>\n",
       "      <td>0.453887</td>\n",
       "    </tr>\n",
       "    <tr>\n",
       "      <th>14</th>\n",
       "      <td>0.00054</td>\n",
       "      <td>9</td>\n",
       "      <td>0.445798</td>\n",
       "    </tr>\n",
       "  </tbody>\n",
       "</table>\n",
       "</div>"
      ],
      "text/plain": [
       "    ccp_alpha  max_depth  Accuracy\n",
       "0     0.00000          5  0.433673\n",
       "1     0.00000          8  0.448445\n",
       "2     0.00000          9  0.439023\n",
       "3     0.00051          5  0.433673\n",
       "4     0.00051          8  0.448482\n",
       "5     0.00051          9  0.448575\n",
       "6     0.00052          5  0.432321\n",
       "7     0.00052          8  0.447168\n",
       "8     0.00052          9  0.455294\n",
       "9     0.00053          5  0.435006\n",
       "10    0.00053          8  0.456646\n",
       "11    0.00053          9  0.434913\n",
       "12    0.00054          5  0.432303\n",
       "13    0.00054          8  0.453887\n",
       "14    0.00054          9  0.445798"
      ]
     },
     "execution_count": 229,
     "metadata": {},
     "output_type": "execute_result"
    }
   ],
   "source": [
    "results_cart"
   ]
  },
  {
   "cell_type": "code",
   "execution_count": 201,
   "id": "lesser-museum",
   "metadata": {},
   "outputs": [
    {
     "data": {
      "text/plain": [
       "<AxesSubplot:xlabel='ccp_alpha', ylabel='Accuracy'>"
      ]
     },
     "execution_count": 201,
     "metadata": {},
     "output_type": "execute_result"
    },
    {
     "data": {
      "image/png": "[encoded data removed]",
      "text/plain": [
       "<Figure size 432x288 with 1 Axes>"
      ]
     },
     "metadata": {
      "needs_background": "light"
     },
     "output_type": "display_data"
    }
   ],
   "source": [
    "import seaborn as sns\n",
    "sns.barplot(x=\"ccp_alpha\", y=\"Accuracy\", hue=\"max_depth\", data=results_cart)"
   ]
  },
  {
   "cell_type": "code",
   "execution_count": 215,
   "id": "approximate-preliminary",
   "metadata": {},
   "outputs": [
    {
     "data": {
      "image/png": "[encoded data removed]",
      "text/plain": [
       "<Figure size 432x288 with 1 Axes>"
      ]
     },
     "metadata": {
      "needs_background": "light"
     },
     "output_type": "display_data"
    }
   ],
   "source": [
    "X = ['Max-depth=16','Max-depth=8']\n",
    "CV_score = [0.99,0.77]\n",
    "Test_score = [0.47,0.41]\n",
    "  \n",
    "X_axis = np.arange(len(X))\n",
    "  \n",
    "plt.bar(X_axis - 0.2, CV_score, 0.4, label = 'training_score')\n",
    "plt.bar(X_axis + 0.2, Test_score, 0.4, label = 'Test_score')\n",
    "\n",
    "\n",
    "plt.xticks(X_axis, X)\n",
    "plt.xlabel(\"Tree Depth\")\n",
    "plt.ylabel(\"Accuracy\")\n",
    "plt.title(\"Training vs Test score\")\n",
    "plt.legend()\n",
    "plt.show()\n",
    "\n",
    "#plt.xlabel(\"\")\n",
    "#plt.ylabel(\"Accuracy\")\n",
    "#plt.title('Accuracy vs Lagrangian Multiplier')\n",
    "#plt.legend(['Poly (d=3)', 'rbf (var=0.01)'])"
   ]
  },
  {
   "cell_type": "code",
   "execution_count": 226,
   "id": "romantic-blend",
   "metadata": {},
   "outputs": [
    {
     "data": {
      "text/plain": [
       "0.44534412955465585"
      ]
     },
     "execution_count": 226,
     "metadata": {},
     "output_type": "execute_result"
    }
   ],
   "source": [
    "clf = tree.DecisionTreeClassifier(ccp_alpha= 0.00054, max_depth= 8)\n",
    "clf.fit(X_train, y_train)\n",
    "\n",
    "# CART accuracy\n",
    "ypred = clf.predict(X_test)\n",
    "error_cart = sum((ypred==y_test.to_numpy().flatten()))/y_test.size\n",
    "error_cart"
   ]
  },
  {
   "cell_type": "code",
   "execution_count": 110,
   "id": "contained-participation",
   "metadata": {},
   "outputs": [
    {
     "data": {
      "text/plain": [
       "0.7710027100271003"
      ]
     },
     "execution_count": 110,
     "metadata": {},
     "output_type": "execute_result"
    }
   ],
   "source": [
    "#CART training score\n",
    "ypred = clf.predict(X_train)\n",
    "error_train = sum((ypred==y_train.to_numpy().flatten()))/y_train.size\n",
    "error_train"
   ]
  },
  {
   "cell_type": "markdown",
   "id": "resistant-fifteen",
   "metadata": {},
   "source": [
    "### Using Bagging - Random Forest"
   ]
  },
  {
   "cell_type": "code",
   "execution_count": 111,
   "id": "challenging-width",
   "metadata": {},
   "outputs": [],
   "source": [
    "n_of_trees = []\n",
    "error_rf = []\n",
    "oob_s = []\n",
    "for i in range(50):\n",
    "    n_of_trees +=[i]\n",
    "    clf_rf = RandomForestClassifier(n_estimators=i+1, criterion= 'entropy',random_state=2,oob_score=True)\n",
    "    clf_rf.fit(X_train, y_train)\n",
    "    ypred=clf_rf.predict(X_test)\n",
    "    error = sum((ypred==y_test.to_numpy().flatten()))/y_test.size\n",
    "    error_rf +=[error]\n",
    "    oob_s +=[clf_rf.oob_score_]\n",
    "    "
   ]
  },
  {
   "cell_type": "code",
   "execution_count": 112,
   "id": "super-honey",
   "metadata": {},
   "outputs": [
    {
     "data": {
      "text/plain": [
       "50"
      ]
     },
     "execution_count": 112,
     "metadata": {},
     "output_type": "execute_result"
    }
   ],
   "source": [
    "len(n_of_trees)"
   ]
  },
  {
   "cell_type": "code",
   "execution_count": 227,
   "id": "narrow-apparatus",
   "metadata": {},
   "outputs": [
    {
     "data": {
      "image/png": "[encoded data removed]",
      "text/plain": [
       "<Figure size 432x288 with 1 Axes>"
      ]
     },
     "metadata": {
      "needs_background": "light"
     },
     "output_type": "display_data"
    }
   ],
   "source": [
    "plt.plot(n_of_trees,error_rf)\n",
    "plt.plot(n_of_trees,oob_s)\n",
    "plt.plot(n_of_trees,[error_cart]*50, '-.')\n",
    "plt.xlabel(\"Number of Trees\")\n",
    "plt.ylabel(\"Accuracy\")\n",
    "plt.title('Accuracy vs no. of trees')\n",
    "plt.legend(['test_score', 'OOB score'])\n",
    "plt.show()"
   ]
  },
  {
   "cell_type": "code",
   "execution_count": 115,
   "id": "respiratory-civilization",
   "metadata": {},
   "outputs": [
    {
     "data": {
      "text/plain": [
       "0.6396761133603239"
      ]
     },
     "execution_count": 115,
     "metadata": {},
     "output_type": "execute_result"
    }
   ],
   "source": [
    "max(error_rf)  # test error"
   ]
  },
  {
   "cell_type": "code",
   "execution_count": 116,
   "id": "voluntary-trinity",
   "metadata": {},
   "outputs": [
    {
     "data": {
      "text/plain": [
       "24"
      ]
     },
     "execution_count": 116,
     "metadata": {},
     "output_type": "execute_result"
    }
   ],
   "source": [
    "idx=error_rf.index(max(error_rf))\n",
    "idx"
   ]
  },
  {
   "cell_type": "code",
   "execution_count": 117,
   "id": "injured-ebony",
   "metadata": {},
   "outputs": [
    {
     "data": {
      "text/plain": [
       "0.5718157181571816"
      ]
     },
     "execution_count": 117,
     "metadata": {},
     "output_type": "execute_result"
    }
   ],
   "source": [
    "oob_s[idx] # cross validation error"
   ]
  },
  {
   "cell_type": "code",
   "execution_count": 210,
   "id": "unique-heath",
   "metadata": {},
   "outputs": [
    {
     "name": "stdout",
     "output_type": "stream",
     "text": [
      "[[12  0  3  2  0  0 10  0  1  0]\n",
      " [ 0 15  0  0  0  0  0  0  0  0]\n",
      " [ 1  0 17  2  0  3  0  0  2  4]\n",
      " [ 0  0  0 18  2  0  0  7  3  0]\n",
      " [ 1  0  0  0 13  1  2  3  4  2]\n",
      " [ 2  0  0  0  0 25  0  1  0  2]\n",
      " [ 1  0  0  5  0  0 19  0  0  2]\n",
      " [ 0  0  0  2  0  0  0 12  1  1]\n",
      " [ 1  0  1  0  4  0  0  0 18  1]\n",
      " [ 1  0  3  5  0  0  1  1  4  6]]\n",
      "              precision    recall  f1-score   support\n",
      "\n",
      "         1.0       0.63      0.43      0.51        28\n",
      "         2.0       1.00      1.00      1.00        15\n",
      "         3.0       0.71      0.59      0.64        29\n",
      "         4.0       0.53      0.60      0.56        30\n",
      "         5.0       0.68      0.50      0.58        26\n",
      "         6.0       0.86      0.83      0.85        30\n",
      "         7.0       0.59      0.70      0.64        27\n",
      "         8.0       0.50      0.75      0.60        16\n",
      "         9.0       0.55      0.72      0.62        25\n",
      "        10.0       0.33      0.29      0.31        21\n",
      "\n",
      "    accuracy                           0.63       247\n",
      "   macro avg       0.64      0.64      0.63       247\n",
      "weighted avg       0.64      0.63      0.62       247\n",
      "\n"
     ]
    },
    {
     "data": {
      "text/plain": [
       "<sklearn.metrics._plot.confusion_matrix.ConfusionMatrixDisplay at 0x2178db9ef70>"
      ]
     },
     "execution_count": 210,
     "metadata": {},
     "output_type": "execute_result"
    },
    {
     "data": {
      "image/png": "[encoded data removed]",
      "text/plain": [
       "<Figure size 432x288 with 2 Axes>"
      ]
     },
     "metadata": {
      "needs_background": "light"
     },
     "output_type": "display_data"
    }
   ],
   "source": [
    "#Random forest\n",
    "clf_rf =  RandomForestClassifier(n_estimators=24, criterion= 'entropy',random_state=2,oob_score=True)\n",
    "clf_rf.fit(X_train, y_train)\n",
    "score=clf_rf.score(X_test, y_test)\n",
    "predictions = clf_rf.predict(X_test)\n",
    "\n",
    "print(confusion_matrix(y_test,predictions))\n",
    "print(classification_report(y_test,predictions))\n",
    "ConfusionMatrixDisplay(confusion_matrix(y_test, predictions)).plot()"
   ]
  },
  {
   "cell_type": "code",
   "execution_count": 39,
   "id": "illegal-findings",
   "metadata": {},
   "outputs": [],
   "source": [
    "from sklearn import decomposition\n",
    "pca = decomposition.PCA(n_components=2)\n",
    "pca.fit(X_train)\n",
    "Xi_train = pca.transform(X_train)\n",
    "Xi_test = pca.transform(X_test)"
   ]
  },
  {
   "cell_type": "code",
   "execution_count": 40,
   "id": "vietnamese-watershed",
   "metadata": {},
   "outputs": [
    {
     "data": {
      "text/plain": [
       "RandomForestClassifier(criterion='entropy', n_estimators=24, oob_score=True,\n",
       "                       random_state=2)"
      ]
     },
     "execution_count": 40,
     "metadata": {},
     "output_type": "execute_result"
    }
   ],
   "source": [
    "clf_t = RandomForestClassifier(n_estimators=24, criterion= 'entropy',random_state=2,oob_score=True)\n",
    "clf_t.fit(Xi_train, y_train)"
   ]
  },
  {
   "cell_type": "code",
   "execution_count": 41,
   "id": "focused-sense",
   "metadata": {},
   "outputs": [
    {
     "data": {
      "image/png": "[encoded data removed]",
      "text/plain": [
       "<Figure size 800x800 with 1 Axes>"
      ]
     },
     "metadata": {
      "needs_background": "light"
     },
     "output_type": "display_data"
    }
   ],
   "source": [
    "# Reference code from : https://stackoverflow.com/questions/45075638/graph-k-nn-decision-boundaries-in-matplotlib\n",
    "from matplotlib.colors import ListedColormap\n",
    "h = .02  # step size in the mesh\n",
    "\n",
    "# Create color maps\n",
    "cmap_light = ListedColormap(['#FF0000', '#00FF00','#FF00FF','#00FFFF','#008000','#FFFF00','#008080','#800080','#800000','#000080'])\n",
    "cmap_bold = ListedColormap(['#FF0000', '#00FF00','#FF00FF','#00FFFF','#008000','#FFFF00','#008080','#800080','#800000','#000080'])\n",
    "\n",
    "\n",
    "\n",
    "# Plot the decision boundary. For that, we will assign a color to each\n",
    "# point in the mesh [x_min, x_max]x[y_min, y_max].\n",
    "x_min, x_max = Xi_train[:, 0].min() - 1, Xi_train[:, 0].max() + 1\n",
    "y_min, y_max = Xi_train[:, 1].min() - 1, Xi_train[:, 1].max() + 1\n",
    "xx, yy = np.meshgrid(np.arange(x_min, x_max, h), np.arange(y_min, y_max, h))\n",
    "Z = clf_t.predict(np.c_[xx.ravel(), yy.ravel()])\n",
    "\n",
    "# Put the result into a color plot\n",
    "Z = Z.reshape(xx.shape)\n",
    "plt.figure(figsize=(10, 10), dpi=80)\n",
    "plt.pcolormesh(xx, yy, Z, cmap=cmap_light)\n",
    "\n",
    "# Plot also the training points\n",
    "plt.scatter(Xi_train[:, 0], Xi_train[:, 1], c=y_train.to_numpy().flatten(), cmap=cmap_bold)\n",
    "#plt.scatter(Xi_test[:, 0], Xi_test[:, 1], c=ytest, marker='x',cmap= cmap_bold)\n",
    "plt.xlim(xx.min(), xx.max())\n",
    "plt.ylim(yy.min(), yy.max())\n",
    "#plt.title(\"3-Class classification (k = %i, weights = '%s')\"% (n_neighbors))\n",
    "\n",
    "plt.show()"
   ]
  },
  {
   "cell_type": "markdown",
   "id": "coastal-animation",
   "metadata": {},
   "source": [
    "# Boosting"
   ]
  },
  {
   "cell_type": "code",
   "execution_count": 213,
   "id": "promising-length",
   "metadata": {},
   "outputs": [
    {
     "data": {
      "text/plain": [
       "0.5708502024291497"
      ]
     },
     "execution_count": 213,
     "metadata": {},
     "output_type": "execute_result"
    }
   ],
   "source": [
    "# WE plan to boost the CART that we had trained earlier\n",
    "\n",
    "from sklearn.ensemble import AdaBoostClassifier\n",
    "clf = tree.DecisionTreeClassifier(ccp_alpha= 0.00054, max_depth= 8)\n",
    "clf_boost = AdaBoostClassifier(clf,n_estimators=50)\n",
    "clf_boost.fit(X_train, y_train)\n",
    "ypred=clf_boost.predict(X_test)\n",
    "error = sum((ypred==y_test.to_numpy().flatten()))/y_test.size\n",
    "\n",
    "error"
   ]
  },
  {
   "cell_type": "code",
   "execution_count": 219,
   "id": "apparent-hawaii",
   "metadata": {},
   "outputs": [
    {
     "name": "stdout",
     "output_type": "stream",
     "text": [
      "0\n",
      "1\n",
      "2\n",
      "3\n",
      "4\n",
      "5\n",
      "6\n",
      "7\n",
      "8\n",
      "9\n",
      "10\n",
      "11\n",
      "12\n",
      "13\n",
      "14\n",
      "15\n",
      "16\n",
      "17\n",
      "18\n",
      "19\n",
      "20\n",
      "21\n",
      "22\n",
      "23\n",
      "24\n",
      "25\n",
      "26\n",
      "27\n",
      "28\n",
      "29\n",
      "30\n",
      "31\n",
      "32\n",
      "33\n",
      "34\n",
      "35\n",
      "36\n",
      "37\n",
      "38\n",
      "39\n",
      "40\n",
      "41\n",
      "42\n",
      "43\n",
      "44\n",
      "45\n",
      "46\n",
      "47\n",
      "48\n",
      "49\n"
     ]
    }
   ],
   "source": [
    "n_of_iteration = []\n",
    "Accuracy_cv = []\n",
    "Acc_test = []\n",
    "for i in range(50):\n",
    "    n_of_iteration +=[i]\n",
    "    clf_boost = AdaBoostClassifier(clf,n_estimators=i+1)\n",
    "    clf_boost.fit(X_train, y_train)\n",
    "    cv_acc=cross_val_score(clf_boost, X_train, y_train, cv=5).mean()\n",
    "    Accuracy_cv +=[cv_acc]\n",
    "    \n",
    "    ypred=clf_boost.predict(X_test)\n",
    "    error = sum((ypred==y_test.to_numpy().flatten()))/y_test.size\n",
    "    Acc_test +=[error]\n",
    "    print(i)\n",
    "   "
   ]
  },
  {
   "cell_type": "code",
   "execution_count": 220,
   "id": "removed-mixture",
   "metadata": {},
   "outputs": [
    {
     "data": {
      "image/png": "[encoded data removed]",
      "text/plain": [
       "<Figure size 432x288 with 1 Axes>"
      ]
     },
     "metadata": {
      "needs_background": "light"
     },
     "output_type": "display_data"
    }
   ],
   "source": [
    "#plot the two accuracies\n",
    "plt.plot(n_of_iteration[0:76],Accuracy_cv)\n",
    "plt.plot(n_of_iteration[0:76],Acc_test)\n",
    "#plt.plot(n_of_trees,[error_cart]*76, '-.')\n",
    "plt.xlabel(\"Number of iterations\")\n",
    "plt.ylabel(\"Accuracy\")\n",
    "plt.title('Accuracy vs no. of iterations')\n",
    "plt.legend(['5-fold CV', 'testing'])\n",
    "plt.show()"
   ]
  },
  {
   "cell_type": "code",
   "execution_count": 224,
   "id": "departmental-munich",
   "metadata": {},
   "outputs": [
    {
     "name": "stdout",
     "output_type": "stream",
     "text": [
      "[[ 9  0  3  2  0  0  2  0  2 10]\n",
      " [ 0 13  1  0  0  1  0  0  0  0]\n",
      " [ 2  0 16  2  0  0  0  0  3  6]\n",
      " [ 0  0  0 21  1  0  0  4  2  2]\n",
      " [ 2  0  2  2 10  0  1  1  5  3]\n",
      " [ 2  1  1  0  0 15  0  2  0  9]\n",
      " [ 0  0  2  0  0  0 19  0  0  6]\n",
      " [ 0  0  0  2  0  0  0 14  0  0]\n",
      " [ 1  0  2  1  2  0  0  1 17  1]\n",
      " [ 2  0  1  2  0  0  1  3  0 12]]\n",
      "              precision    recall  f1-score   support\n",
      "\n",
      "         1.0       0.50      0.32      0.39        28\n",
      "         2.0       0.93      0.87      0.90        15\n",
      "         3.0       0.57      0.55      0.56        29\n",
      "         4.0       0.66      0.70      0.68        30\n",
      "         5.0       0.77      0.38      0.51        26\n",
      "         6.0       0.94      0.50      0.65        30\n",
      "         7.0       0.83      0.70      0.76        27\n",
      "         8.0       0.56      0.88      0.68        16\n",
      "         9.0       0.59      0.68      0.63        25\n",
      "        10.0       0.24      0.57      0.34        21\n",
      "\n",
      "    accuracy                           0.59       247\n",
      "   macro avg       0.66      0.62      0.61       247\n",
      "weighted avg       0.66      0.59      0.60       247\n",
      "\n"
     ]
    },
    {
     "data": {
      "text/plain": [
       "<sklearn.metrics._plot.confusion_matrix.ConfusionMatrixDisplay at 0x217900e47f0>"
      ]
     },
     "execution_count": 224,
     "metadata": {},
     "output_type": "execute_result"
    },
    {
     "data": {
      "image/png": "[encoded data removed]",
      "text/plain": [
       "<Figure size 432x288 with 2 Axes>"
      ]
     },
     "metadata": {
      "needs_background": "light"
     },
     "output_type": "display_data"
    }
   ],
   "source": [
    "#Adaboost\n",
    "clf_boost = AdaBoostClassifier(clf,n_estimators=40)\n",
    "clf_boost.fit(X_train, y_train)\n",
    "\n",
    "predictions = clf_boost.predict(X_test)\n",
    "print(confusion_matrix(y_test.to_numpy().flatten(),predictions))\n",
    "print(classification_report(y_test.to_numpy().flatten(),predictions))\n",
    "ConfusionMatrixDisplay(confusion_matrix(y_test, predictions)).plot()"
   ]
  },
  {
   "cell_type": "code",
   "execution_count": 123,
   "id": "harmful-repeat",
   "metadata": {},
   "outputs": [
    {
     "data": {
      "text/plain": [
       "AdaBoostClassifier(base_estimator=DecisionTreeClassifier(ccp_alpha=0.00054,\n",
       "                                                         max_depth=8),\n",
       "                   n_estimators=44)"
      ]
     },
     "execution_count": 123,
     "metadata": {},
     "output_type": "execute_result"
    }
   ],
   "source": [
    "clf_t = AdaBoostClassifier(clf,n_estimators=44)\n",
    "clf_t.fit(Xi_train, y_train)"
   ]
  },
  {
   "cell_type": "code",
   "execution_count": 124,
   "id": "registered-immunology",
   "metadata": {},
   "outputs": [
    {
     "data": {
      "image/png": "[encoded data removed]",
      "text/plain": [
       "<Figure size 800x800 with 1 Axes>"
      ]
     },
     "metadata": {
      "needs_background": "light"
     },
     "output_type": "display_data"
    }
   ],
   "source": [
    "# Reference code from : https://stackoverflow.com/questions/45075638/graph-k-nn-decision-boundaries-in-matplotlib\n",
    "from matplotlib.colors import ListedColormap\n",
    "h = .02  # step size in the mesh\n",
    "\n",
    "# Create color maps\n",
    "cmap_light = ListedColormap(['#FF0000', '#00FF00','#FF00FF','#00FFFF','#008000','#FFFF00','#008080','#800080','#800000','#000080'])\n",
    "cmap_bold = ListedColormap(['#FF0000', '#00FF00','#FF00FF','#00FFFF','#008000','#FFFF00','#008080','#800080','#800000','#000080'])\n",
    "\n",
    "\n",
    "\n",
    "# Plot the decision boundary. For that, we will assign a color to each\n",
    "# point in the mesh [x_min, x_max]x[y_min, y_max].\n",
    "x_min, x_max = Xi_train[:, 0].min() - 1, Xi_train[:, 0].max() + 1\n",
    "y_min, y_max = Xi_train[:, 1].min() - 1, Xi_train[:, 1].max() + 1\n",
    "xx, yy = np.meshgrid(np.arange(x_min, x_max, h), np.arange(y_min, y_max, h))\n",
    "Z = clf_t.predict(np.c_[xx.ravel(), yy.ravel()])\n",
    "\n",
    "# Put the result into a color plot\n",
    "Z = Z.reshape(xx.shape)\n",
    "plt.figure(figsize=(10, 10), dpi=80)\n",
    "plt.pcolormesh(xx, yy, Z, cmap=cmap_light)\n",
    "\n",
    "# Plot also the training points\n",
    "plt.scatter(Xi_train[:, 0], Xi_train[:, 1], c=y_train.to_numpy().flatten(), cmap=cmap_bold)\n",
    "#plt.scatter(Xi_test[:, 0], Xi_test[:, 1], c=ytest, marker='x',cmap= cmap_bold)\n",
    "plt.xlim(xx.min(), xx.max())\n",
    "plt.ylim(yy.min(), yy.max())\n",
    "#plt.title(\"3-Class classification (k = %i, weights = '%s')\"% (n_neighbors))\n",
    "\n",
    "plt.show()"
   ]
  },
  {
   "cell_type": "code",
   "execution_count": 48,
   "id": "romance-surrey",
   "metadata": {},
   "outputs": [
    {
     "name": "stdout",
     "output_type": "stream",
     "text": [
      "0.5870445344129555    0.6017006802721088\n",
      "0.6356275303643725    0.5881044309615737\n",
      "0.6518218623481782    0.6151774223202795\n",
      "0.631578947368421    0.6017282588711159\n",
      "0.6518218623481782    0.5949623092480236\n",
      "0.631578947368421    0.6179812465526752\n",
      "0.6437246963562753    0.6179720536863395\n",
      "0.6234817813765182    0.6193417907703622\n",
      "0.6437246963562753    0.6057639271924986\n",
      "0.631578947368421    0.6179628608200037\n",
      "0.6518218623481782    0.6261537047251332\n",
      "0.631578947368421    0.6085034013605443\n",
      "0.6275303643724697    0.6031347674204818\n",
      "0.6194331983805668    0.6166115094686523\n",
      "0.6558704453441295    0.632882882882883\n",
      "0.6356275303643725    0.6247839676411104\n",
      "0.6558704453441295    0.6234418091560949\n",
      "0.6437246963562753    0.6099007170435742\n",
      "0.6437246963562753    0.6234142305570878\n",
      "0.6356275303643725    0.6437028865600294\n",
      "0.659919028340081    0.6301434087148372\n",
      "0.6356275303643725    0.6233866519580806\n",
      "0.659919028340081    0.6152969295826438\n",
      "0.6518218623481782    0.6261445118587976\n",
      "0.6761133603238867    0.6125206839492554\n",
      "0.631578947368421    0.6166115094686523\n",
      "0.6356275303643725    0.6423423423423424\n",
      "0.6477732793522267    0.613899613899614\n",
      "0.6518218623481782    0.612566648280934\n",
      "0.6356275303643725    0.6139547710976283\n"
     ]
    }
   ],
   "source": [
    "# WE plan to boost the Random forest model that we had trained earlier\n",
    "\n",
    "from sklearn.ensemble import AdaBoostClassifier\n",
    "\n",
    "n_of_iteration = []\n",
    "Accuracy_cv = []\n",
    "Acc_test = []\n",
    "\n",
    "for i in range(30):\n",
    "    n_of_iteration +=[i]\n",
    "    clf_boost = AdaBoostClassifier(clf_rf,n_estimators=i+1)\n",
    "    clf_boost.fit(X_train, y_train)\n",
    "    ypred=clf_boost.predict(X_test)\n",
    "    error = sum((ypred==y_test.to_numpy().flatten()))/y_test.size\n",
    "    Acc_test +=[error]\n",
    "    cv_acc=cross_val_score(clf_boost, X_train, y_train, cv=5).mean()\n",
    "    Accuracy_cv +=[cv_acc]\n",
    "    print(error, \"  \",cv_acc)\n",
    "    "
   ]
  },
  {
   "cell_type": "code",
   "execution_count": 49,
   "id": "acting-opening",
   "metadata": {},
   "outputs": [
    {
     "data": {
      "image/png": "[encoded data removed]",
      "text/plain": [
       "<Figure size 432x288 with 1 Axes>"
      ]
     },
     "metadata": {
      "needs_background": "light"
     },
     "output_type": "display_data"
    }
   ],
   "source": [
    "#plot the two accuracies (boosting the bagged model)\n",
    "plt.plot(n_of_iteration[0:76],Accuracy_cv)\n",
    "plt.plot(n_of_iteration[0:76],Acc_test)\n",
    "#plt.plot(n_of_trees,[error_cart]*76, '-.')\n",
    "plt.xlabel(\"Number of iterations\")\n",
    "plt.ylabel(\"Accuracy\")\n",
    "plt.title('Accuracy vs no. of iterations')\n",
    "plt.legend(['5-fold CV', 'testing'])\n",
    "plt.show()"
   ]
  },
  {
   "cell_type": "markdown",
   "id": "under-serial",
   "metadata": {},
   "source": [
    "# Logistics Regression"
   ]
  },
  {
   "cell_type": "code",
   "execution_count": 50,
   "id": "crazy-antibody",
   "metadata": {},
   "outputs": [
    {
     "name": "stdout",
     "output_type": "stream",
     "text": [
      "[[ 8  0  4  3  0  0 11  0  1  1]\n",
      " [ 0 14  0  0  0  1  0  0  0  0]\n",
      " [ 4  0 13  2  0  1  0  4  3  2]\n",
      " [ 0  0  0 13  5  0  0 10  1  1]\n",
      " [ 1  1  0  2 14  1  2  4  0  1]\n",
      " [ 1  1  0  0  0 19  0  6  3  0]\n",
      " [ 2  0  0  0  0  1 24  0  0  0]\n",
      " [ 0  0  0  2  0  0  0 14  0  0]\n",
      " [ 1  0  0  1  4  1  0  1 16  1]\n",
      " [ 2  0  3  1  1  3  1  3  1  6]]\n",
      "              precision    recall  f1-score   support\n",
      "\n",
      "         1.0       0.42      0.29      0.34        28\n",
      "         2.0       0.88      0.93      0.90        15\n",
      "         3.0       0.65      0.45      0.53        29\n",
      "         4.0       0.54      0.43      0.48        30\n",
      "         5.0       0.58      0.54      0.56        26\n",
      "         6.0       0.70      0.63      0.67        30\n",
      "         7.0       0.63      0.89      0.74        27\n",
      "         8.0       0.33      0.88      0.48        16\n",
      "         9.0       0.64      0.64      0.64        25\n",
      "        10.0       0.50      0.29      0.36        21\n",
      "\n",
      "    accuracy                           0.57       247\n",
      "   macro avg       0.59      0.60      0.57       247\n",
      "weighted avg       0.59      0.57      0.56       247\n",
      "\n"
     ]
    }
   ],
   "source": [
    "#logistics regression\n",
    "clf_lr = LogisticRegression(random_state=10,solver='liblinear',penalty='l1',C=0.1)\n",
    "clf_lr.fit(X_train, y_train)\n",
    "predictions = clf_lr.predict(X_test)\n",
    "\n",
    "print(confusion_matrix(y_test,predictions))\n",
    "print(classification_report(y_test,predictions))"
   ]
  },
  {
   "cell_type": "code",
   "execution_count": 51,
   "id": "final-contact",
   "metadata": {},
   "outputs": [],
   "source": [
    "from sklearn.feature_selection import SelectFromModel\n",
    "selector = SelectFromModel(estimator=LogisticRegression()).fit(X_train, y_train)\n",
    "selector.get_support()\n",
    "X_L1 = selector.transform(X_train)\n",
    "X_test_L1 = selector.transform(X_test)"
   ]
  },
  {
   "cell_type": "code",
   "execution_count": 52,
   "id": "balanced-engine",
   "metadata": {},
   "outputs": [
    {
     "data": {
      "text/plain": [
       "(738, 15)"
      ]
     },
     "execution_count": 52,
     "metadata": {},
     "output_type": "execute_result"
    }
   ],
   "source": [
    "X_L1.shape"
   ]
  },
  {
   "cell_type": "code",
   "execution_count": 53,
   "id": "appointed-gothic",
   "metadata": {},
   "outputs": [
    {
     "name": "stdout",
     "output_type": "stream",
     "text": [
      "[[ 6  0  8  3  0  1  6  0  1  3]\n",
      " [ 0 14  0  0  0  1  0  0  0  0]\n",
      " [ 2  0 17  2  0  0  0  2  3  3]\n",
      " [ 0  0  0 19  4  0  0  6  1  0]\n",
      " [ 3  0  2  0 15  0  2  3  1  0]\n",
      " [ 2  1  0  0  0 23  0  0  1  3]\n",
      " [ 4  0  0  0  0  0 22  0  0  1]\n",
      " [ 0  0  0  2  1  0  0 13  0  0]\n",
      " [ 1  0  1  2  2  0  0  1 18  0]\n",
      " [ 3  0  3  6  0  0  1  2  0  6]]\n",
      "              precision    recall  f1-score   support\n",
      "\n",
      "         1.0       0.29      0.21      0.24        28\n",
      "         2.0       0.93      0.93      0.93        15\n",
      "         3.0       0.55      0.59      0.57        29\n",
      "         4.0       0.56      0.63      0.59        30\n",
      "         5.0       0.68      0.58      0.62        26\n",
      "         6.0       0.92      0.77      0.84        30\n",
      "         7.0       0.71      0.81      0.76        27\n",
      "         8.0       0.48      0.81      0.60        16\n",
      "         9.0       0.72      0.72      0.72        25\n",
      "        10.0       0.38      0.29      0.32        21\n",
      "\n",
      "    accuracy                           0.62       247\n",
      "   macro avg       0.62      0.63      0.62       247\n",
      "weighted avg       0.62      0.62      0.61       247\n",
      "\n"
     ]
    }
   ],
   "source": [
    "#logistics regression from only selected variables\n",
    "clf_lr = LogisticRegression(random_state=10)\n",
    "clf_lr.fit(X_L1, y_train)\n",
    "predictions = clf_lr.predict(X_test_L1)\n",
    "\n",
    "print(confusion_matrix(y_test,predictions))\n",
    "print(classification_report(y_test,predictions))"
   ]
  },
  {
   "cell_type": "code",
   "execution_count": 54,
   "id": "confident-nudist",
   "metadata": {},
   "outputs": [],
   "source": [
    "from sklearn.feature_selection import SelectKBest, f_classif,mutual_info_classif\n",
    "f_classif(X_train, y_train)\n",
    "MI = mutual_info_classif(X_train, y_train)"
   ]
  },
  {
   "cell_type": "code",
   "execution_count": 55,
   "id": "continental-design",
   "metadata": {},
   "outputs": [
    {
     "data": {
      "text/plain": [
       "array([0.46558061, 0.44882828, 0.42812447, 0.42135626, 0.39701715,\n",
       "       0.37397856, 0.31763878, 0.30646376, 0.29949208, 0.2790054 ,\n",
       "       0.26636575, 0.25632818, 0.24139251, 0.21495638, 0.2101306 ,\n",
       "       0.2078272 , 0.20721319, 0.20304696, 0.20128671, 0.20112321,\n",
       "       0.19731642, 0.18424314, 0.18198557, 0.1704498 , 0.15602579,\n",
       "       0.1510453 , 0.14466613, 0.13518077, 0.13195999, 0.11674024,\n",
       "       0.08639506, 0.08630126, 0.08072475, 0.07550865, 0.06013746,\n",
       "       0.04893707])"
      ]
     },
     "execution_count": 55,
     "metadata": {},
     "output_type": "execute_result"
    }
   ],
   "source": [
    "sindex = np.argsort(MI)\n",
    "sindex=sindex[::-1]\n",
    "MI[sindex]"
   ]
  },
  {
   "cell_type": "code",
   "execution_count": 56,
   "id": "seventh-bradford",
   "metadata": {},
   "outputs": [
    {
     "data": {
      "text/plain": [
       "['centroid_var',\n",
       " 'rolloff_mean',\n",
       " 'rolloff_var',\n",
       " 'mfcc_mean2',\n",
       " 'mfcc_mean1',\n",
       " 'centroid_mean',\n",
       " 'tempo_sum',\n",
       " 'mfcc_var5',\n",
       " 'mfcc_mean4',\n",
       " 'tempo_max',\n",
       " 'mfcc_var4',\n",
       " 'zero_cross',\n",
       " 'mfcc_var3',\n",
       " 'pitch2',\n",
       " 'mfcc_mean3',\n",
       " 'pitch7',\n",
       " 'pitch9',\n",
       " 'pitch10',\n",
       " 'pitch11',\n",
       " 'mfcc_mean5',\n",
       " 'mfcc_var1',\n",
       " 'pitch12',\n",
       " 'pitch1',\n",
       " 'pitch5',\n",
       " 'pitch8',\n",
       " 'tempo_beat',\n",
       " 'pitch4',\n",
       " 'pitch6',\n",
       " 'mfcc_var2',\n",
       " 'pitch3',\n",
       " 'low_energy',\n",
       " 'mfcc_skew3',\n",
       " 'mfcc_skew1',\n",
       " 'mfcc_skew4',\n",
       " 'mfcc_skew5',\n",
       " 'mfcc_skew2']"
      ]
     },
     "execution_count": 56,
     "metadata": {},
     "output_type": "execute_result"
    }
   ],
   "source": [
    "feature_list=list(X_train.columns)\n",
    "priority_list = [feature_list[i] for i in sindex]\n",
    "priority_list"
   ]
  },
  {
   "cell_type": "code",
   "execution_count": 57,
   "id": "enormous-serve",
   "metadata": {},
   "outputs": [
    {
     "data": {
      "text/html": [
       "<div>\n",
       "<style scoped>\n",
       "    .dataframe tbody tr th:only-of-type {\n",
       "        vertical-align: middle;\n",
       "    }\n",
       "\n",
       "    .dataframe tbody tr th {\n",
       "        vertical-align: top;\n",
       "    }\n",
       "\n",
       "    .dataframe thead th {\n",
       "        text-align: right;\n",
       "    }\n",
       "</style>\n",
       "<table border=\"1\" class=\"dataframe\">\n",
       "  <thead>\n",
       "    <tr style=\"text-align: right;\">\n",
       "      <th></th>\n",
       "      <th>features</th>\n",
       "      <th>MI</th>\n",
       "    </tr>\n",
       "  </thead>\n",
       "  <tbody>\n",
       "    <tr>\n",
       "      <th>0</th>\n",
       "      <td>centroid_var</td>\n",
       "      <td>0.465581</td>\n",
       "    </tr>\n",
       "    <tr>\n",
       "      <th>1</th>\n",
       "      <td>rolloff_mean</td>\n",
       "      <td>0.448828</td>\n",
       "    </tr>\n",
       "    <tr>\n",
       "      <th>2</th>\n",
       "      <td>rolloff_var</td>\n",
       "      <td>0.428124</td>\n",
       "    </tr>\n",
       "    <tr>\n",
       "      <th>3</th>\n",
       "      <td>mfcc_mean2</td>\n",
       "      <td>0.421356</td>\n",
       "    </tr>\n",
       "    <tr>\n",
       "      <th>4</th>\n",
       "      <td>mfcc_mean1</td>\n",
       "      <td>0.397017</td>\n",
       "    </tr>\n",
       "    <tr>\n",
       "      <th>5</th>\n",
       "      <td>centroid_mean</td>\n",
       "      <td>0.373979</td>\n",
       "    </tr>\n",
       "    <tr>\n",
       "      <th>6</th>\n",
       "      <td>tempo_sum</td>\n",
       "      <td>0.317639</td>\n",
       "    </tr>\n",
       "    <tr>\n",
       "      <th>7</th>\n",
       "      <td>mfcc_var5</td>\n",
       "      <td>0.306464</td>\n",
       "    </tr>\n",
       "    <tr>\n",
       "      <th>8</th>\n",
       "      <td>mfcc_mean4</td>\n",
       "      <td>0.299492</td>\n",
       "    </tr>\n",
       "    <tr>\n",
       "      <th>9</th>\n",
       "      <td>tempo_max</td>\n",
       "      <td>0.279005</td>\n",
       "    </tr>\n",
       "    <tr>\n",
       "      <th>10</th>\n",
       "      <td>mfcc_var4</td>\n",
       "      <td>0.266366</td>\n",
       "    </tr>\n",
       "    <tr>\n",
       "      <th>11</th>\n",
       "      <td>zero_cross</td>\n",
       "      <td>0.256328</td>\n",
       "    </tr>\n",
       "    <tr>\n",
       "      <th>12</th>\n",
       "      <td>mfcc_var3</td>\n",
       "      <td>0.241393</td>\n",
       "    </tr>\n",
       "    <tr>\n",
       "      <th>13</th>\n",
       "      <td>pitch2</td>\n",
       "      <td>0.214956</td>\n",
       "    </tr>\n",
       "    <tr>\n",
       "      <th>14</th>\n",
       "      <td>mfcc_mean3</td>\n",
       "      <td>0.210131</td>\n",
       "    </tr>\n",
       "    <tr>\n",
       "      <th>15</th>\n",
       "      <td>pitch7</td>\n",
       "      <td>0.207827</td>\n",
       "    </tr>\n",
       "    <tr>\n",
       "      <th>16</th>\n",
       "      <td>pitch9</td>\n",
       "      <td>0.207213</td>\n",
       "    </tr>\n",
       "    <tr>\n",
       "      <th>17</th>\n",
       "      <td>pitch10</td>\n",
       "      <td>0.203047</td>\n",
       "    </tr>\n",
       "    <tr>\n",
       "      <th>18</th>\n",
       "      <td>pitch11</td>\n",
       "      <td>0.201287</td>\n",
       "    </tr>\n",
       "    <tr>\n",
       "      <th>19</th>\n",
       "      <td>mfcc_mean5</td>\n",
       "      <td>0.201123</td>\n",
       "    </tr>\n",
       "    <tr>\n",
       "      <th>20</th>\n",
       "      <td>mfcc_var1</td>\n",
       "      <td>0.197316</td>\n",
       "    </tr>\n",
       "    <tr>\n",
       "      <th>21</th>\n",
       "      <td>pitch12</td>\n",
       "      <td>0.184243</td>\n",
       "    </tr>\n",
       "    <tr>\n",
       "      <th>22</th>\n",
       "      <td>pitch1</td>\n",
       "      <td>0.181986</td>\n",
       "    </tr>\n",
       "    <tr>\n",
       "      <th>23</th>\n",
       "      <td>pitch5</td>\n",
       "      <td>0.170450</td>\n",
       "    </tr>\n",
       "    <tr>\n",
       "      <th>24</th>\n",
       "      <td>pitch8</td>\n",
       "      <td>0.156026</td>\n",
       "    </tr>\n",
       "    <tr>\n",
       "      <th>25</th>\n",
       "      <td>tempo_beat</td>\n",
       "      <td>0.151045</td>\n",
       "    </tr>\n",
       "    <tr>\n",
       "      <th>26</th>\n",
       "      <td>pitch4</td>\n",
       "      <td>0.144666</td>\n",
       "    </tr>\n",
       "    <tr>\n",
       "      <th>27</th>\n",
       "      <td>pitch6</td>\n",
       "      <td>0.135181</td>\n",
       "    </tr>\n",
       "    <tr>\n",
       "      <th>28</th>\n",
       "      <td>mfcc_var2</td>\n",
       "      <td>0.131960</td>\n",
       "    </tr>\n",
       "    <tr>\n",
       "      <th>29</th>\n",
       "      <td>pitch3</td>\n",
       "      <td>0.116740</td>\n",
       "    </tr>\n",
       "    <tr>\n",
       "      <th>30</th>\n",
       "      <td>low_energy</td>\n",
       "      <td>0.086395</td>\n",
       "    </tr>\n",
       "    <tr>\n",
       "      <th>31</th>\n",
       "      <td>mfcc_skew3</td>\n",
       "      <td>0.086301</td>\n",
       "    </tr>\n",
       "    <tr>\n",
       "      <th>32</th>\n",
       "      <td>mfcc_skew1</td>\n",
       "      <td>0.080725</td>\n",
       "    </tr>\n",
       "    <tr>\n",
       "      <th>33</th>\n",
       "      <td>mfcc_skew4</td>\n",
       "      <td>0.075509</td>\n",
       "    </tr>\n",
       "    <tr>\n",
       "      <th>34</th>\n",
       "      <td>mfcc_skew5</td>\n",
       "      <td>0.060137</td>\n",
       "    </tr>\n",
       "    <tr>\n",
       "      <th>35</th>\n",
       "      <td>mfcc_skew2</td>\n",
       "      <td>0.048937</td>\n",
       "    </tr>\n",
       "  </tbody>\n",
       "</table>\n",
       "</div>"
      ],
      "text/plain": [
       "         features        MI\n",
       "0    centroid_var  0.465581\n",
       "1    rolloff_mean  0.448828\n",
       "2     rolloff_var  0.428124\n",
       "3      mfcc_mean2  0.421356\n",
       "4      mfcc_mean1  0.397017\n",
       "5   centroid_mean  0.373979\n",
       "6       tempo_sum  0.317639\n",
       "7       mfcc_var5  0.306464\n",
       "8      mfcc_mean4  0.299492\n",
       "9       tempo_max  0.279005\n",
       "10      mfcc_var4  0.266366\n",
       "11     zero_cross  0.256328\n",
       "12      mfcc_var3  0.241393\n",
       "13         pitch2  0.214956\n",
       "14     mfcc_mean3  0.210131\n",
       "15         pitch7  0.207827\n",
       "16         pitch9  0.207213\n",
       "17        pitch10  0.203047\n",
       "18        pitch11  0.201287\n",
       "19     mfcc_mean5  0.201123\n",
       "20      mfcc_var1  0.197316\n",
       "21        pitch12  0.184243\n",
       "22         pitch1  0.181986\n",
       "23         pitch5  0.170450\n",
       "24         pitch8  0.156026\n",
       "25     tempo_beat  0.151045\n",
       "26         pitch4  0.144666\n",
       "27         pitch6  0.135181\n",
       "28      mfcc_var2  0.131960\n",
       "29         pitch3  0.116740\n",
       "30     low_energy  0.086395\n",
       "31     mfcc_skew3  0.086301\n",
       "32     mfcc_skew1  0.080725\n",
       "33     mfcc_skew4  0.075509\n",
       "34     mfcc_skew5  0.060137\n",
       "35     mfcc_skew2  0.048937"
      ]
     },
     "execution_count": 57,
     "metadata": {},
     "output_type": "execute_result"
    }
   ],
   "source": [
    "d = {'features':priority_list , 'MI': list(MI[sindex])}\n",
    "feature_imp_MI=pd.DataFrame(data=d)\n",
    "feature_imp_MI"
   ]
  },
  {
   "cell_type": "code",
   "execution_count": 58,
   "id": "japanese-validation",
   "metadata": {},
   "outputs": [],
   "source": [
    "rmindex=np.argsort(clf_rf.feature_importances_)\n",
    "rmindex= rmindex[::-1]"
   ]
  },
  {
   "cell_type": "code",
   "execution_count": 59,
   "id": "beautiful-malawi",
   "metadata": {},
   "outputs": [
    {
     "data": {
      "text/plain": [
       "['rolloff_mean',\n",
       " 'rolloff_var',\n",
       " 'mfcc_mean4',\n",
       " 'mfcc_mean1',\n",
       " 'mfcc_var5',\n",
       " 'centroid_var',\n",
       " 'centroid_mean',\n",
       " 'tempo_sum',\n",
       " 'mfcc_var4',\n",
       " 'tempo_max',\n",
       " 'zero_cross',\n",
       " 'mfcc_mean2',\n",
       " 'mfcc_var3',\n",
       " 'mfcc_mean3',\n",
       " 'mfcc_var1',\n",
       " 'mfcc_mean5',\n",
       " 'tempo_beat',\n",
       " 'pitch12',\n",
       " 'pitch2',\n",
       " 'pitch7',\n",
       " 'pitch5',\n",
       " 'pitch1',\n",
       " 'pitch11',\n",
       " 'pitch10',\n",
       " 'mfcc_skew3',\n",
       " 'pitch6',\n",
       " 'mfcc_skew5',\n",
       " 'pitch9',\n",
       " 'mfcc_skew4',\n",
       " 'mfcc_skew2',\n",
       " 'pitch4',\n",
       " 'mfcc_skew1',\n",
       " 'pitch3',\n",
       " 'low_energy',\n",
       " 'pitch8',\n",
       " 'mfcc_var2']"
      ]
     },
     "execution_count": 59,
     "metadata": {},
     "output_type": "execute_result"
    }
   ],
   "source": [
    "feature_list=list(X_train.columns)\n",
    "importance_list = [feature_list[i] for i in rmindex]\n",
    "importance_list"
   ]
  },
  {
   "cell_type": "code",
   "execution_count": null,
   "id": "surprising-davis",
   "metadata": {},
   "outputs": [],
   "source": []
  },
  {
   "cell_type": "code",
   "execution_count": 60,
   "id": "billion-joint",
   "metadata": {},
   "outputs": [
    {
     "data": {
      "text/plain": [
       "array([0.06132065, 0.06100216, 0.05899199, 0.05751371, 0.04895489,\n",
       "       0.04798263, 0.04700185, 0.04552793, 0.04309076, 0.03578216,\n",
       "       0.03549642, 0.02982792, 0.0276714 , 0.02749058, 0.02609679,\n",
       "       0.02585519, 0.02322315, 0.02157839, 0.01938249, 0.01871014,\n",
       "       0.01848729, 0.01825564, 0.01722227, 0.0166243 , 0.01661511,\n",
       "       0.01592392, 0.01499981, 0.01483519, 0.01454278, 0.01367042,\n",
       "       0.01359625, 0.01317996, 0.01277557, 0.01234923, 0.01227064,\n",
       "       0.01215045])"
      ]
     },
     "execution_count": 60,
     "metadata": {},
     "output_type": "execute_result"
    }
   ],
   "source": [
    "clf_rf.feature_importances_[rmindex]"
   ]
  },
  {
   "cell_type": "code",
   "execution_count": 230,
   "id": "transsexual-david",
   "metadata": {},
   "outputs": [
    {
     "data": {
      "image/png": "[encoded data removed]",
      "text/plain": [
       "<Figure size 432x288 with 1 Axes>"
      ]
     },
     "metadata": {
      "needs_background": "light"
     },
     "output_type": "display_data"
    }
   ],
   "source": [
    "X = ['KNN','SVM-Rf', 'CART','RF','Adaboost']\n",
    "CV_score = [0.62,0.7,0.46,0.6,0.57]\n",
    "Test_score = [0.63,0.71,0.42,0.63,0.59]\n",
    "  \n",
    "X_axis = np.arange(len(X))\n",
    "  \n",
    "plt.bar(X_axis - 0.2, CV_score, 0.4, label = 'CV_score')\n",
    "plt.bar(X_axis + 0.2, Test_score, 0.4, label = 'Test_score')\n",
    "\n",
    "\n",
    "plt.xticks(X_axis, X)\n",
    "plt.xlabel(\"Models\")\n",
    "plt.ylabel(\"Accuracy\")\n",
    "plt.title(\"CV score vs Test score\")\n",
    "plt.legend()\n",
    "plt.show()"
   ]
  },
  {
   "cell_type": "code",
   "execution_count": null,
   "id": "alternative-malawi",
   "metadata": {},
   "outputs": [],
   "source": []
  }
 ],
 "metadata": {
  "kernelspec": {
   "display_name": "Python 3",
   "language": "python",
   "name": "python3"
  },
  "language_info": {
   "codemirror_mode": {
    "name": "ipython",
    "version": 3
   },
   "file_extension": ".py",
   "mimetype": "text/x-python",
   "name": "python",
   "nbconvert_exporter": "python",
   "pygments_lexer": "ipython3",
   "version": "3.8.5"
  }
 },
 "nbformat": 4,
 "nbformat_minor": 5
}
